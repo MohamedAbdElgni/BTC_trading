{
 "cells": [
  {
   "attachments": {},
   "cell_type": "markdown",
   "metadata": {},
   "source": [
    "# Bitcoin Price Prediction\n",
    "This notebook is inspired from the This Great book __Blueprints for Machine Learning and Data Science in Finance__ and its repo. \n",
    "### Applying CaseStudy3 - Chapter 6 but on BTC data from 2023 with 1 min INV\n",
    "\n"
   ]
  },
  {
   "attachments": {},
   "cell_type": "markdown",
   "metadata": {},
   "source": [
    "# This is a classification problem"
   ]
  },
  {
   "cell_type": "code",
   "execution_count": 31,
   "metadata": {},
   "outputs": [],
   "source": [
    "import numpy as np\n",
    "import pandas as pd\n",
    "import matplotlib.pyplot as plt\n",
    "import plotly.express as px\n",
    "from pandas import read_csv, set_option\n",
    "from pandas.plotting import scatter_matrix\n",
    "import seaborn as sns\n",
    "from sklearn.preprocessing import StandardScaler\n",
    "from sklearn.model_selection import train_test_split, KFold, cross_val_score, GridSearchCV\n",
    "from sklearn.linear_model import LogisticRegression\n",
    "from sklearn.tree import DecisionTreeClassifier\n",
    "from sklearn.neighbors import KNeighborsClassifier\n",
    "from sklearn.discriminant_analysis import LinearDiscriminantAnalysis\n",
    "from sklearn.naive_bayes import GaussianNB\n",
    "from sklearn.svm import SVC\n",
    "from sklearn.neural_network import MLPClassifier\n",
    "from sklearn.pipeline import Pipeline\n",
    "from sklearn.ensemble import AdaBoostClassifier, GradientBoostingClassifier, RandomForestClassifier, ExtraTreesClassifier\n",
    "from sklearn.metrics import classification_report, confusion_matrix, accuracy_score,ConfusionMatrixDisplay\n",
    "import warnings\n",
    "warnings.filterwarnings('ignore')\n"
   ]
  },
  {
   "attachments": {},
   "cell_type": "markdown",
   "metadata": {},
   "source": [
    "<a id='Load The Data'></a>\n",
    "## 1. Load The Data"
   ]
  },
  {
   "cell_type": "code",
   "execution_count": 2,
   "metadata": {},
   "outputs": [],
   "source": [
    "drop=['high','low','open','close_time','quote_asset_volume','taker_buy_base_asset_volume',\n",
    "        'number_of_trades','taker_buy_quote_asset_volume','ignore','timestamp']"
   ]
  },
  {
   "cell_type": "code",
   "execution_count": 3,
   "metadata": {},
   "outputs": [
    {
     "name": "stdout",
     "output_type": "stream",
     "text": [
      "Data Shape--> (221680, 12)\n"
     ]
    },
    {
     "data": {
      "text/html": [
       "<div>\n",
       "<style scoped>\n",
       "    .dataframe tbody tr th:only-of-type {\n",
       "        vertical-align: middle;\n",
       "    }\n",
       "\n",
       "    .dataframe tbody tr th {\n",
       "        vertical-align: top;\n",
       "    }\n",
       "\n",
       "    .dataframe thead th {\n",
       "        text-align: right;\n",
       "    }\n",
       "</style>\n",
       "<table border=\"1\" class=\"dataframe\">\n",
       "  <thead>\n",
       "    <tr style=\"text-align: right;\">\n",
       "      <th></th>\n",
       "      <th>timestamp</th>\n",
       "      <th>open</th>\n",
       "      <th>high</th>\n",
       "      <th>low</th>\n",
       "      <th>close</th>\n",
       "      <th>volume</th>\n",
       "      <th>close_time</th>\n",
       "      <th>quote_asset_volume</th>\n",
       "      <th>number_of_trades</th>\n",
       "      <th>taker_buy_base_asset_volume</th>\n",
       "      <th>taker_buy_quote_asset_volume</th>\n",
       "      <th>ignore</th>\n",
       "    </tr>\n",
       "  </thead>\n",
       "  <tbody>\n",
       "    <tr>\n",
       "      <th>0</th>\n",
       "      <td>2022-11-01 00:00:00</td>\n",
       "      <td>20490.74</td>\n",
       "      <td>20497.95</td>\n",
       "      <td>20471.34</td>\n",
       "      <td>20475.59</td>\n",
       "      <td>355.07194</td>\n",
       "      <td>1667260859999</td>\n",
       "      <td>7.273548e+06</td>\n",
       "      <td>5999</td>\n",
       "      <td>152.53099</td>\n",
       "      <td>3.124760e+06</td>\n",
       "      <td>0</td>\n",
       "    </tr>\n",
       "    <tr>\n",
       "      <th>1</th>\n",
       "      <td>2022-11-01 00:01:00</td>\n",
       "      <td>20474.28</td>\n",
       "      <td>20475.65</td>\n",
       "      <td>20460.98</td>\n",
       "      <td>20471.08</td>\n",
       "      <td>241.41379</td>\n",
       "      <td>1667260919999</td>\n",
       "      <td>4.941196e+06</td>\n",
       "      <td>5491</td>\n",
       "      <td>117.06667</td>\n",
       "      <td>2.396169e+06</td>\n",
       "      <td>0</td>\n",
       "    </tr>\n",
       "    <tr>\n",
       "      <th>2</th>\n",
       "      <td>2022-11-01 00:02:00</td>\n",
       "      <td>20471.08</td>\n",
       "      <td>20479.99</td>\n",
       "      <td>20464.42</td>\n",
       "      <td>20466.63</td>\n",
       "      <td>409.49444</td>\n",
       "      <td>1667260979999</td>\n",
       "      <td>8.383296e+06</td>\n",
       "      <td>7008</td>\n",
       "      <td>202.27747</td>\n",
       "      <td>4.141351e+06</td>\n",
       "      <td>0</td>\n",
       "    </tr>\n",
       "    <tr>\n",
       "      <th>3</th>\n",
       "      <td>2022-11-01 00:03:00</td>\n",
       "      <td>20467.36</td>\n",
       "      <td>20481.44</td>\n",
       "      <td>20457.14</td>\n",
       "      <td>20473.47</td>\n",
       "      <td>347.06217</td>\n",
       "      <td>1667261039999</td>\n",
       "      <td>7.103733e+06</td>\n",
       "      <td>7902</td>\n",
       "      <td>169.47176</td>\n",
       "      <td>3.468923e+06</td>\n",
       "      <td>0</td>\n",
       "    </tr>\n",
       "    <tr>\n",
       "      <th>4</th>\n",
       "      <td>2022-11-01 00:04:00</td>\n",
       "      <td>20473.47</td>\n",
       "      <td>20482.42</td>\n",
       "      <td>20467.12</td>\n",
       "      <td>20476.78</td>\n",
       "      <td>214.82770</td>\n",
       "      <td>1667261099999</td>\n",
       "      <td>4.398583e+06</td>\n",
       "      <td>5261</td>\n",
       "      <td>101.31632</td>\n",
       "      <td>2.074513e+06</td>\n",
       "      <td>0</td>\n",
       "    </tr>\n",
       "  </tbody>\n",
       "</table>\n",
       "</div>"
      ],
      "text/plain": [
       "             timestamp      open      high       low     close     volume  \\\n",
       "0  2022-11-01 00:00:00  20490.74  20497.95  20471.34  20475.59  355.07194   \n",
       "1  2022-11-01 00:01:00  20474.28  20475.65  20460.98  20471.08  241.41379   \n",
       "2  2022-11-01 00:02:00  20471.08  20479.99  20464.42  20466.63  409.49444   \n",
       "3  2022-11-01 00:03:00  20467.36  20481.44  20457.14  20473.47  347.06217   \n",
       "4  2022-11-01 00:04:00  20473.47  20482.42  20467.12  20476.78  214.82770   \n",
       "\n",
       "      close_time  quote_asset_volume  number_of_trades  \\\n",
       "0  1667260859999        7.273548e+06              5999   \n",
       "1  1667260919999        4.941196e+06              5491   \n",
       "2  1667260979999        8.383296e+06              7008   \n",
       "3  1667261039999        7.103733e+06              7902   \n",
       "4  1667261099999        4.398583e+06              5261   \n",
       "\n",
       "   taker_buy_base_asset_volume  taker_buy_quote_asset_volume  ignore  \n",
       "0                    152.53099                  3.124760e+06       0  \n",
       "1                    117.06667                  2.396169e+06       0  \n",
       "2                    202.27747                  4.141351e+06       0  \n",
       "3                    169.47176                  3.468923e+06       0  \n",
       "4                    101.31632                  2.074513e+06       0  "
      ]
     },
     "execution_count": 3,
     "metadata": {},
     "output_type": "execute_result"
    }
   ],
   "source": [
    "df_original = pd.read_csv('BTC_1min_11_22_4.csv')\n",
    "print(f'Data Shape--> {df_original.shape}')\n",
    "df_original.head()"
   ]
  },
  {
   "attachments": {},
   "cell_type": "markdown",
   "metadata": {},
   "source": [
    "<a id='Stats'></a>\n",
    "## 2. Stats"
   ]
  },
  {
   "cell_type": "code",
   "execution_count": 4,
   "metadata": {},
   "outputs": [
    {
     "data": {
      "text/html": [
       "<div>\n",
       "<style scoped>\n",
       "    .dataframe tbody tr th:only-of-type {\n",
       "        vertical-align: middle;\n",
       "    }\n",
       "\n",
       "    .dataframe tbody tr th {\n",
       "        vertical-align: top;\n",
       "    }\n",
       "\n",
       "    .dataframe thead th {\n",
       "        text-align: right;\n",
       "    }\n",
       "</style>\n",
       "<table border=\"1\" class=\"dataframe\">\n",
       "  <thead>\n",
       "    <tr style=\"text-align: right;\">\n",
       "      <th></th>\n",
       "      <th>open</th>\n",
       "      <th>high</th>\n",
       "      <th>low</th>\n",
       "      <th>close</th>\n",
       "      <th>volume</th>\n",
       "      <th>close_time</th>\n",
       "      <th>quote_asset_volume</th>\n",
       "      <th>number_of_trades</th>\n",
       "      <th>taker_buy_base_asset_volume</th>\n",
       "      <th>taker_buy_quote_asset_volume</th>\n",
       "      <th>ignore</th>\n",
       "    </tr>\n",
       "  </thead>\n",
       "  <tbody>\n",
       "    <tr>\n",
       "      <th>count</th>\n",
       "      <td>221680.000000</td>\n",
       "      <td>221680.000000</td>\n",
       "      <td>221680.000000</td>\n",
       "      <td>221680.000000</td>\n",
       "      <td>221680.000000</td>\n",
       "      <td>2.216800e+05</td>\n",
       "      <td>2.216800e+05</td>\n",
       "      <td>221680.000000</td>\n",
       "      <td>221680.000000</td>\n",
       "      <td>2.216800e+05</td>\n",
       "      <td>221680.0</td>\n",
       "    </tr>\n",
       "    <tr>\n",
       "      <th>mean</th>\n",
       "      <td>20725.102568</td>\n",
       "      <td>20733.830482</td>\n",
       "      <td>20716.459489</td>\n",
       "      <td>20725.136344</td>\n",
       "      <td>185.917634</td>\n",
       "      <td>1.673912e+12</td>\n",
       "      <td>3.896125e+06</td>\n",
       "      <td>4529.183711</td>\n",
       "      <td>92.616592</td>\n",
       "      <td>1.942024e+06</td>\n",
       "      <td>0.0</td>\n",
       "    </tr>\n",
       "    <tr>\n",
       "      <th>std</th>\n",
       "      <td>3812.943629</td>\n",
       "      <td>3815.511096</td>\n",
       "      <td>3810.286750</td>\n",
       "      <td>3812.973773</td>\n",
       "      <td>206.791430</td>\n",
       "      <td>3.840144e+09</td>\n",
       "      <td>4.545304e+06</td>\n",
       "      <td>3628.004444</td>\n",
       "      <td>104.694655</td>\n",
       "      <td>2.306978e+06</td>\n",
       "      <td>0.0</td>\n",
       "    </tr>\n",
       "    <tr>\n",
       "      <th>min</th>\n",
       "      <td>15513.840000</td>\n",
       "      <td>15544.470000</td>\n",
       "      <td>15476.000000</td>\n",
       "      <td>15513.840000</td>\n",
       "      <td>0.000000</td>\n",
       "      <td>1.667261e+12</td>\n",
       "      <td>0.000000e+00</td>\n",
       "      <td>0.000000</td>\n",
       "      <td>0.000000</td>\n",
       "      <td>0.000000e+00</td>\n",
       "      <td>0.0</td>\n",
       "    </tr>\n",
       "    <tr>\n",
       "      <th>25%</th>\n",
       "      <td>16857.140000</td>\n",
       "      <td>16862.000000</td>\n",
       "      <td>16852.737500</td>\n",
       "      <td>16857.100000</td>\n",
       "      <td>77.636952</td>\n",
       "      <td>1.670586e+12</td>\n",
       "      <td>1.483476e+06</td>\n",
       "      <td>2397.000000</td>\n",
       "      <td>37.752898</td>\n",
       "      <td>7.235176e+05</td>\n",
       "      <td>0.0</td>\n",
       "    </tr>\n",
       "    <tr>\n",
       "      <th>50%</th>\n",
       "      <td>20872.810000</td>\n",
       "      <td>20884.580000</td>\n",
       "      <td>20863.520000</td>\n",
       "      <td>20872.775000</td>\n",
       "      <td>129.203650</td>\n",
       "      <td>1.673911e+12</td>\n",
       "      <td>2.589938e+06</td>\n",
       "      <td>3623.000000</td>\n",
       "      <td>63.840935</td>\n",
       "      <td>1.278130e+06</td>\n",
       "      <td>0.0</td>\n",
       "    </tr>\n",
       "    <tr>\n",
       "      <th>75%</th>\n",
       "      <td>23307.282500</td>\n",
       "      <td>23316.467500</td>\n",
       "      <td>23298.542500</td>\n",
       "      <td>23307.527500</td>\n",
       "      <td>218.191433</td>\n",
       "      <td>1.677236e+12</td>\n",
       "      <td>4.575574e+06</td>\n",
       "      <td>5572.000000</td>\n",
       "      <td>109.243377</td>\n",
       "      <td>2.285159e+06</td>\n",
       "      <td>0.0</td>\n",
       "    </tr>\n",
       "    <tr>\n",
       "      <th>max</th>\n",
       "      <td>29159.600000</td>\n",
       "      <td>29184.680000</td>\n",
       "      <td>29116.740000</td>\n",
       "      <td>29159.600000</td>\n",
       "      <td>5877.775450</td>\n",
       "      <td>1.680566e+12</td>\n",
       "      <td>1.459557e+08</td>\n",
       "      <td>107315.000000</td>\n",
       "      <td>3537.452960</td>\n",
       "      <td>8.791313e+07</td>\n",
       "      <td>0.0</td>\n",
       "    </tr>\n",
       "  </tbody>\n",
       "</table>\n",
       "</div>"
      ],
      "text/plain": [
       "                open           high            low          close  \\\n",
       "count  221680.000000  221680.000000  221680.000000  221680.000000   \n",
       "mean    20725.102568   20733.830482   20716.459489   20725.136344   \n",
       "std      3812.943629    3815.511096    3810.286750    3812.973773   \n",
       "min     15513.840000   15544.470000   15476.000000   15513.840000   \n",
       "25%     16857.140000   16862.000000   16852.737500   16857.100000   \n",
       "50%     20872.810000   20884.580000   20863.520000   20872.775000   \n",
       "75%     23307.282500   23316.467500   23298.542500   23307.527500   \n",
       "max     29159.600000   29184.680000   29116.740000   29159.600000   \n",
       "\n",
       "              volume    close_time  quote_asset_volume  number_of_trades  \\\n",
       "count  221680.000000  2.216800e+05        2.216800e+05     221680.000000   \n",
       "mean      185.917634  1.673912e+12        3.896125e+06       4529.183711   \n",
       "std       206.791430  3.840144e+09        4.545304e+06       3628.004444   \n",
       "min         0.000000  1.667261e+12        0.000000e+00          0.000000   \n",
       "25%        77.636952  1.670586e+12        1.483476e+06       2397.000000   \n",
       "50%       129.203650  1.673911e+12        2.589938e+06       3623.000000   \n",
       "75%       218.191433  1.677236e+12        4.575574e+06       5572.000000   \n",
       "max      5877.775450  1.680566e+12        1.459557e+08     107315.000000   \n",
       "\n",
       "       taker_buy_base_asset_volume  taker_buy_quote_asset_volume    ignore  \n",
       "count                221680.000000                  2.216800e+05  221680.0  \n",
       "mean                     92.616592                  1.942024e+06       0.0  \n",
       "std                     104.694655                  2.306978e+06       0.0  \n",
       "min                       0.000000                  0.000000e+00       0.0  \n",
       "25%                      37.752898                  7.235176e+05       0.0  \n",
       "50%                      63.840935                  1.278130e+06       0.0  \n",
       "75%                     109.243377                  2.285159e+06       0.0  \n",
       "max                    3537.452960                  8.791313e+07       0.0  "
      ]
     },
     "execution_count": 4,
     "metadata": {},
     "output_type": "execute_result"
    }
   ],
   "source": [
    "df_original.describe()"
   ]
  },
  {
   "attachments": {},
   "cell_type": "markdown",
   "metadata": {},
   "source": [
    "<a id='Data Cleaning'></a>\n",
    "## 3. Data Cleaning"
   ]
  },
  {
   "cell_type": "code",
   "execution_count": null,
   "metadata": {},
   "outputs": [],
   "source": []
  },
  {
   "cell_type": "code",
   "execution_count": 5,
   "metadata": {},
   "outputs": [
    {
     "data": {
      "text/plain": [
       "timestamp                       0\n",
       "open                            0\n",
       "high                            0\n",
       "low                             0\n",
       "close                           0\n",
       "volume                          0\n",
       "close_time                      0\n",
       "quote_asset_volume              0\n",
       "number_of_trades                0\n",
       "taker_buy_base_asset_volume     0\n",
       "taker_buy_quote_asset_volume    0\n",
       "ignore                          0\n",
       "dtype: int64"
      ]
     },
     "execution_count": 5,
     "metadata": {},
     "output_type": "execute_result"
    }
   ],
   "source": [
    "#Nan Values\n",
    "df_original.isna().sum()"
   ]
  },
  {
   "attachments": {},
   "cell_type": "markdown",
   "metadata": {},
   "source": [
    "__No NullValues__"
   ]
  },
  {
   "attachments": {},
   "cell_type": "markdown",
   "metadata": {},
   "source": [
    "<a id='Feature Engineering'></a>\n",
    "## 4 Feature Engineering\n",
    "\n",
    "<font color='cyan'> __Note that This part is copied from the book repo since it's an indicators and domain knowledge.__</font>"
   ]
  },
  {
   "attachments": {},
   "cell_type": "markdown",
   "metadata": {},
   "source": [
    "We begin by the constructing a dataset that contains the predictors which will be used to make the predictions, and the output variable.\n",
    "\n",
    "The current Data of the bicoin consists of date, open, high, low, close and Volume. Using this data we calculate the following  technical indicators:\n",
    "* **Moving Average** : A moving average provides an indication of the trend of the price movement by cut down the amount of \"noise\" on a price chart. \n",
    "* **Stochastic Oscillator %K and %D** : A stochastic oscillator is a momentum indicator comparing a particular closing price of a security to a range of its prices over a certain period of time. %K and %D are slow and fast indicators.\n",
    "* **Relative Strength Index(RSI)** :It is a momentum indicator that measures the magnitude of recent price changes to evaluate overbought or oversold conditions in the price of a stock or other asset. \n",
    "* **Rate Of Change(ROC)**: It is a momentum oscillator, which measures the percentage change between the current price and the n period past price. \n",
    "* **Momentum (MOM)** : It is the rate of acceleration of a security's price or volume – that is, the speed at which the price is changing."
   ]
  },
  {
   "cell_type": "code",
   "execution_count": 6,
   "metadata": {},
   "outputs": [],
   "source": [
    "# Initialize the `signals` DataFrame with the `signal` column\n",
    "\n",
    "# Create short simple moving average over the short window\n",
    "df_original['short_mavg'] = df_original['close'].rolling(window=10, min_periods=1, center=False).mean()\n",
    "\n",
    "# Create long simple moving average over the long window\n",
    "df_original['long_mavg'] = df_original['close'].rolling(window=60, min_periods=1, center=False).mean()\n",
    "\n",
    "# Create signals\n",
    "df_original['signal'] = np.where(df_original['short_mavg'] > df_original['long_mavg'], 1.0, 0.0)\n"
   ]
  },
  {
   "cell_type": "code",
   "execution_count": 7,
   "metadata": {},
   "outputs": [],
   "source": [
    "\n",
    "\n",
    "#calculation of exponential moving average\n",
    "def EMA(df, n):\n",
    "    EMA = pd.Series(df['close'].ewm(span=n, min_periods=n).mean(), name='EMA_' + str(n))\n",
    "    return EMA\n",
    "\n",
    "df_original['EMA10'] = EMA(df_original, 10)\n",
    "df_original['EMA30'] = EMA(df_original, 30)\n",
    "df_original['EMA200'] = EMA(df_original, 200)\n",
    "df_original.head()\n",
    "\n",
    "#calculation of rate of change\n",
    "def ROC(df, n):  \n",
    "    M = df.diff(n - 1)  \n",
    "    N = df.shift(n - 1)  \n",
    "    ROC = pd.Series(((M / N) * 100), name = 'ROC_' + str(n))   \n",
    "    return ROC\n",
    "\n",
    "df_original['ROC10'] = ROC(df_original['close'], 10)\n",
    "df_original['ROC30'] = ROC(df_original['close'], 30)\n",
    "\n",
    "#Calculation of price momentum\n",
    "def MOM(df, n):   \n",
    "    MOM = pd.Series(df.diff(n), name='Momentum_' + str(n))   \n",
    "    return MOM\n",
    "\n",
    "df_original['MOM10'] = MOM(df_original['close'], 10)\n",
    "df_original['MOM30'] = MOM(df_original['close'], 30)\n",
    "\n",
    "#calculation of relative strength index\n",
    "def RSI(series, period):\n",
    "    delta = series.diff().dropna()\n",
    "    u = delta * 0\n",
    "    d = u.copy()\n",
    "    u[delta > 0] = delta[delta > 0]\n",
    "    d[delta < 0] = -delta[delta < 0]\n",
    "    u[u.index[period-1]] = np.mean( u[:period] ) #first value is sum of avg gains\n",
    "    u = u.drop(u.index[:(period-1)])\n",
    "    d[d.index[period-1]] = np.mean( d[:period] ) #first value is sum of avg losses\n",
    "    d = d.drop(d.index[:(period-1)])\n",
    "    rs = u.ewm(com=period-1, adjust=False).mean() / \\\n",
    "    d.ewm(com=period-1, adjust=False).mean()\n",
    "    return 100 - 100 / (1 + rs)\n",
    "\n",
    "df_original['RSI10'] = RSI(df_original['close'], 10)\n",
    "df_original['RSI30'] = RSI(df_original['close'], 30)\n",
    "df_original['RSI200'] = RSI(df_original['close'], 200)\n",
    "\n",
    "#calculation of stochastic osillator.\n",
    "\n",
    "def STOK(close, low, high, n): \n",
    "    STOK = ((close - low.rolling(n).min()) / (high.rolling(n).max() - low.rolling(n).min())) * 100\n",
    "    return STOK\n",
    "\n",
    "def STOD(close, low, high, n):\n",
    "    STOK = ((close - low.rolling(n).min()) / (high.rolling(n).max() - low.rolling(n).min())) * 100\n",
    "    STOD = STOK.rolling(3).mean()\n",
    "    return STOD\n",
    "\n",
    "df_original['%K10'] = STOK(df_original['close'], df_original['low'], df_original['high'], 10)\n",
    "df_original['%D10'] = STOD(df_original['close'], df_original['low'], df_original['high'], 10)\n",
    "df_original['%K30'] = STOK(df_original['close'], df_original['low'], df_original['high'], 30)\n",
    "df_original['%D30'] = STOD(df_original['close'], df_original['low'], df_original['high'], 30)\n",
    "df_original['%K200'] = STOK(df_original['close'], df_original['low'], df_original['high'], 200)\n",
    "df_original['%D200'] = STOD(df_original['close'], df_original['low'], df_original['high'], 200)"
   ]
  },
  {
   "cell_type": "code",
   "execution_count": 8,
   "metadata": {},
   "outputs": [
    {
     "data": {
      "text/html": [
       "<div>\n",
       "<style scoped>\n",
       "    .dataframe tbody tr th:only-of-type {\n",
       "        vertical-align: middle;\n",
       "    }\n",
       "\n",
       "    .dataframe tbody tr th {\n",
       "        vertical-align: top;\n",
       "    }\n",
       "\n",
       "    .dataframe thead th {\n",
       "        text-align: right;\n",
       "    }\n",
       "</style>\n",
       "<table border=\"1\" class=\"dataframe\">\n",
       "  <thead>\n",
       "    <tr style=\"text-align: right;\">\n",
       "      <th></th>\n",
       "      <th>timestamp</th>\n",
       "      <th>open</th>\n",
       "      <th>high</th>\n",
       "      <th>low</th>\n",
       "      <th>close</th>\n",
       "      <th>volume</th>\n",
       "      <th>close_time</th>\n",
       "      <th>quote_asset_volume</th>\n",
       "      <th>number_of_trades</th>\n",
       "      <th>taker_buy_base_asset_volume</th>\n",
       "      <th>...</th>\n",
       "      <th>RSI200</th>\n",
       "      <th>%K10</th>\n",
       "      <th>%D10</th>\n",
       "      <th>%K30</th>\n",
       "      <th>%D30</th>\n",
       "      <th>%K200</th>\n",
       "      <th>%D200</th>\n",
       "      <th>MA21</th>\n",
       "      <th>MA63</th>\n",
       "      <th>MA252</th>\n",
       "    </tr>\n",
       "  </thead>\n",
       "  <tbody>\n",
       "    <tr>\n",
       "      <th>221675</th>\n",
       "      <td>2023-04-03 23:55:00</td>\n",
       "      <td>27774.26</td>\n",
       "      <td>27785.84</td>\n",
       "      <td>27770.56</td>\n",
       "      <td>27776.67</td>\n",
       "      <td>44.76366</td>\n",
       "      <td>1680566159999</td>\n",
       "      <td>1.243429e+06</td>\n",
       "      <td>724</td>\n",
       "      <td>22.20905</td>\n",
       "      <td>...</td>\n",
       "      <td>48.745077</td>\n",
       "      <td>25.244444</td>\n",
       "      <td>17.661538</td>\n",
       "      <td>19.198170</td>\n",
       "      <td>12.940301</td>\n",
       "      <td>72.075373</td>\n",
       "      <td>70.688707</td>\n",
       "      <td>27814.739</td>\n",
       "      <td>27836.498000</td>\n",
       "      <td>27738.62000</td>\n",
       "    </tr>\n",
       "    <tr>\n",
       "      <th>221676</th>\n",
       "      <td>2023-04-03 23:56:00</td>\n",
       "      <td>27776.67</td>\n",
       "      <td>27793.65</td>\n",
       "      <td>27776.67</td>\n",
       "      <td>27793.65</td>\n",
       "      <td>24.66886</td>\n",
       "      <td>1680566219999</td>\n",
       "      <td>6.854006e+05</td>\n",
       "      <td>404</td>\n",
       "      <td>21.31472</td>\n",
       "      <td>...</td>\n",
       "      <td>48.972837</td>\n",
       "      <td>36.854701</td>\n",
       "      <td>28.565242</td>\n",
       "      <td>32.182947</td>\n",
       "      <td>22.690924</td>\n",
       "      <td>74.198510</td>\n",
       "      <td>72.682638</td>\n",
       "      <td>27805.505</td>\n",
       "      <td>27833.001333</td>\n",
       "      <td>27738.70230</td>\n",
       "    </tr>\n",
       "    <tr>\n",
       "      <th>221677</th>\n",
       "      <td>2023-04-03 23:57:00</td>\n",
       "      <td>27793.65</td>\n",
       "      <td>27794.84</td>\n",
       "      <td>27784.94</td>\n",
       "      <td>27792.38</td>\n",
       "      <td>22.11301</td>\n",
       "      <td>1680566279999</td>\n",
       "      <td>6.145434e+05</td>\n",
       "      <td>507</td>\n",
       "      <td>10.35733</td>\n",
       "      <td>...</td>\n",
       "      <td>48.956484</td>\n",
       "      <td>43.661855</td>\n",
       "      <td>35.253667</td>\n",
       "      <td>33.396789</td>\n",
       "      <td>28.259302</td>\n",
       "      <td>74.039712</td>\n",
       "      <td>73.437865</td>\n",
       "      <td>27798.715</td>\n",
       "      <td>27829.704667</td>\n",
       "      <td>27738.77770</td>\n",
       "    </tr>\n",
       "    <tr>\n",
       "      <th>221678</th>\n",
       "      <td>2023-04-03 23:58:00</td>\n",
       "      <td>27792.39</td>\n",
       "      <td>27798.89</td>\n",
       "      <td>27782.58</td>\n",
       "      <td>27782.80</td>\n",
       "      <td>36.26225</td>\n",
       "      <td>1680566339999</td>\n",
       "      <td>1.007807e+06</td>\n",
       "      <td>631</td>\n",
       "      <td>19.47639</td>\n",
       "      <td>...</td>\n",
       "      <td>48.832864</td>\n",
       "      <td>38.589100</td>\n",
       "      <td>39.701885</td>\n",
       "      <td>27.724111</td>\n",
       "      <td>31.101283</td>\n",
       "      <td>72.841853</td>\n",
       "      <td>73.693358</td>\n",
       "      <td>27791.865</td>\n",
       "      <td>27826.072667</td>\n",
       "      <td>27738.69160</td>\n",
       "    </tr>\n",
       "    <tr>\n",
       "      <th>221679</th>\n",
       "      <td>2023-04-03 23:59:00</td>\n",
       "      <td>27782.80</td>\n",
       "      <td>27809.30</td>\n",
       "      <td>27782.79</td>\n",
       "      <td>27800.00</td>\n",
       "      <td>46.15129</td>\n",
       "      <td>1680566399999</td>\n",
       "      <td>1.283072e+06</td>\n",
       "      <td>636</td>\n",
       "      <td>22.68424</td>\n",
       "      <td>...</td>\n",
       "      <td>49.064943</td>\n",
       "      <td>60.528431</td>\n",
       "      <td>47.593129</td>\n",
       "      <td>41.151561</td>\n",
       "      <td>34.090820</td>\n",
       "      <td>74.992498</td>\n",
       "      <td>73.958021</td>\n",
       "      <td>27788.563</td>\n",
       "      <td>27823.482667</td>\n",
       "      <td>27738.67165</td>\n",
       "    </tr>\n",
       "  </tbody>\n",
       "</table>\n",
       "<p>5 rows × 34 columns</p>\n",
       "</div>"
      ],
      "text/plain": [
       "                  timestamp      open      high       low     close    volume  \\\n",
       "221675  2023-04-03 23:55:00  27774.26  27785.84  27770.56  27776.67  44.76366   \n",
       "221676  2023-04-03 23:56:00  27776.67  27793.65  27776.67  27793.65  24.66886   \n",
       "221677  2023-04-03 23:57:00  27793.65  27794.84  27784.94  27792.38  22.11301   \n",
       "221678  2023-04-03 23:58:00  27792.39  27798.89  27782.58  27782.80  36.26225   \n",
       "221679  2023-04-03 23:59:00  27782.80  27809.30  27782.79  27800.00  46.15129   \n",
       "\n",
       "           close_time  quote_asset_volume  number_of_trades  \\\n",
       "221675  1680566159999        1.243429e+06               724   \n",
       "221676  1680566219999        6.854006e+05               404   \n",
       "221677  1680566279999        6.145434e+05               507   \n",
       "221678  1680566339999        1.007807e+06               631   \n",
       "221679  1680566399999        1.283072e+06               636   \n",
       "\n",
       "        taker_buy_base_asset_volume  ...     RSI200       %K10       %D10  \\\n",
       "221675                     22.20905  ...  48.745077  25.244444  17.661538   \n",
       "221676                     21.31472  ...  48.972837  36.854701  28.565242   \n",
       "221677                     10.35733  ...  48.956484  43.661855  35.253667   \n",
       "221678                     19.47639  ...  48.832864  38.589100  39.701885   \n",
       "221679                     22.68424  ...  49.064943  60.528431  47.593129   \n",
       "\n",
       "             %K30       %D30      %K200      %D200       MA21          MA63  \\\n",
       "221675  19.198170  12.940301  72.075373  70.688707  27814.739  27836.498000   \n",
       "221676  32.182947  22.690924  74.198510  72.682638  27805.505  27833.001333   \n",
       "221677  33.396789  28.259302  74.039712  73.437865  27798.715  27829.704667   \n",
       "221678  27.724111  31.101283  72.841853  73.693358  27791.865  27826.072667   \n",
       "221679  41.151561  34.090820  74.992498  73.958021  27788.563  27823.482667   \n",
       "\n",
       "              MA252  \n",
       "221675  27738.62000  \n",
       "221676  27738.70230  \n",
       "221677  27738.77770  \n",
       "221678  27738.69160  \n",
       "221679  27738.67165  \n",
       "\n",
       "[5 rows x 34 columns]"
      ]
     },
     "execution_count": 8,
     "metadata": {},
     "output_type": "execute_result"
    }
   ],
   "source": [
    "def MA(df, n):\n",
    "    MA = pd.Series(df['close'].rolling(n, min_periods=n).mean(), name='MA_' + str(n))\n",
    "    return MA\n",
    "df_original['MA21'] = MA(df_original, 10)\n",
    "df_original['MA63'] = MA(df_original, 30)\n",
    "df_original['MA252'] = MA(df_original, 200)\n",
    "df_original.tail()"
   ]
  },
  {
   "cell_type": "code",
   "execution_count": 9,
   "metadata": {},
   "outputs": [
    {
     "name": "stdout",
     "output_type": "stream",
     "text": [
      "Data Shape--> (221680, 22)\n"
     ]
    },
    {
     "data": {
      "text/html": [
       "<div>\n",
       "<style scoped>\n",
       "    .dataframe tbody tr th:only-of-type {\n",
       "        vertical-align: middle;\n",
       "    }\n",
       "\n",
       "    .dataframe tbody tr th {\n",
       "        vertical-align: top;\n",
       "    }\n",
       "\n",
       "    .dataframe thead th {\n",
       "        text-align: right;\n",
       "    }\n",
       "</style>\n",
       "<table border=\"1\" class=\"dataframe\">\n",
       "  <thead>\n",
       "    <tr style=\"text-align: right;\">\n",
       "      <th></th>\n",
       "      <th>close</th>\n",
       "      <th>volume</th>\n",
       "      <th>signal</th>\n",
       "      <th>EMA10</th>\n",
       "      <th>EMA30</th>\n",
       "      <th>EMA200</th>\n",
       "      <th>ROC10</th>\n",
       "      <th>ROC30</th>\n",
       "      <th>MOM10</th>\n",
       "      <th>MOM30</th>\n",
       "      <th>...</th>\n",
       "      <th>RSI200</th>\n",
       "      <th>%K10</th>\n",
       "      <th>%D10</th>\n",
       "      <th>%K30</th>\n",
       "      <th>%D30</th>\n",
       "      <th>%K200</th>\n",
       "      <th>%D200</th>\n",
       "      <th>MA21</th>\n",
       "      <th>MA63</th>\n",
       "      <th>MA252</th>\n",
       "    </tr>\n",
       "  </thead>\n",
       "  <tbody>\n",
       "    <tr>\n",
       "      <th>221675</th>\n",
       "      <td>27776.67</td>\n",
       "      <td>44.76366</td>\n",
       "      <td>0.0</td>\n",
       "      <td>27801.475216</td>\n",
       "      <td>27832.916793</td>\n",
       "      <td>27825.558175</td>\n",
       "      <td>-0.392025</td>\n",
       "      <td>-0.436869</td>\n",
       "      <td>-92.19</td>\n",
       "      <td>-155.39</td>\n",
       "      <td>...</td>\n",
       "      <td>48.745077</td>\n",
       "      <td>25.244444</td>\n",
       "      <td>17.661538</td>\n",
       "      <td>19.198170</td>\n",
       "      <td>12.940301</td>\n",
       "      <td>72.075373</td>\n",
       "      <td>70.688707</td>\n",
       "      <td>27814.739</td>\n",
       "      <td>27836.498000</td>\n",
       "      <td>27738.62000</td>\n",
       "    </tr>\n",
       "    <tr>\n",
       "      <th>221676</th>\n",
       "      <td>27793.65</td>\n",
       "      <td>24.66886</td>\n",
       "      <td>0.0</td>\n",
       "      <td>27800.052449</td>\n",
       "      <td>27830.383452</td>\n",
       "      <td>27825.240681</td>\n",
       "      <td>-0.239158</td>\n",
       "      <td>-0.350038</td>\n",
       "      <td>-92.34</td>\n",
       "      <td>-104.90</td>\n",
       "      <td>...</td>\n",
       "      <td>48.972837</td>\n",
       "      <td>36.854701</td>\n",
       "      <td>28.565242</td>\n",
       "      <td>32.182947</td>\n",
       "      <td>22.690924</td>\n",
       "      <td>74.198510</td>\n",
       "      <td>72.682638</td>\n",
       "      <td>27805.505</td>\n",
       "      <td>27833.001333</td>\n",
       "      <td>27738.70230</td>\n",
       "    </tr>\n",
       "    <tr>\n",
       "      <th>221677</th>\n",
       "      <td>27792.38</td>\n",
       "      <td>22.11301</td>\n",
       "      <td>0.0</td>\n",
       "      <td>27798.657458</td>\n",
       "      <td>27827.931616</td>\n",
       "      <td>27824.913709</td>\n",
       "      <td>-0.211552</td>\n",
       "      <td>-0.356306</td>\n",
       "      <td>-67.90</td>\n",
       "      <td>-98.90</td>\n",
       "      <td>...</td>\n",
       "      <td>48.956484</td>\n",
       "      <td>43.661855</td>\n",
       "      <td>35.253667</td>\n",
       "      <td>33.396789</td>\n",
       "      <td>28.259302</td>\n",
       "      <td>74.039712</td>\n",
       "      <td>73.437865</td>\n",
       "      <td>27798.715</td>\n",
       "      <td>27829.704667</td>\n",
       "      <td>27738.77770</td>\n",
       "    </tr>\n",
       "    <tr>\n",
       "      <th>221678</th>\n",
       "      <td>27782.80</td>\n",
       "      <td>36.26225</td>\n",
       "      <td>0.0</td>\n",
       "      <td>27795.774284</td>\n",
       "      <td>27825.019899</td>\n",
       "      <td>27824.494667</td>\n",
       "      <td>-0.180433</td>\n",
       "      <td>-0.340415</td>\n",
       "      <td>-68.50</td>\n",
       "      <td>-108.96</td>\n",
       "      <td>...</td>\n",
       "      <td>48.832864</td>\n",
       "      <td>38.589100</td>\n",
       "      <td>39.701885</td>\n",
       "      <td>27.724111</td>\n",
       "      <td>31.101283</td>\n",
       "      <td>72.841853</td>\n",
       "      <td>73.693358</td>\n",
       "      <td>27791.865</td>\n",
       "      <td>27826.072667</td>\n",
       "      <td>27738.69160</td>\n",
       "    </tr>\n",
       "    <tr>\n",
       "      <th>221679</th>\n",
       "      <td>27800.00</td>\n",
       "      <td>46.15129</td>\n",
       "      <td>0.0</td>\n",
       "      <td>27796.542596</td>\n",
       "      <td>27823.405712</td>\n",
       "      <td>27824.250939</td>\n",
       "      <td>-0.088519</td>\n",
       "      <td>-0.308970</td>\n",
       "      <td>-33.02</td>\n",
       "      <td>-77.70</td>\n",
       "      <td>...</td>\n",
       "      <td>49.064943</td>\n",
       "      <td>60.528431</td>\n",
       "      <td>47.593129</td>\n",
       "      <td>41.151561</td>\n",
       "      <td>34.090820</td>\n",
       "      <td>74.992498</td>\n",
       "      <td>73.958021</td>\n",
       "      <td>27788.563</td>\n",
       "      <td>27823.482667</td>\n",
       "      <td>27738.67165</td>\n",
       "    </tr>\n",
       "  </tbody>\n",
       "</table>\n",
       "<p>5 rows × 22 columns</p>\n",
       "</div>"
      ],
      "text/plain": [
       "           close    volume  signal         EMA10         EMA30        EMA200  \\\n",
       "221675  27776.67  44.76366     0.0  27801.475216  27832.916793  27825.558175   \n",
       "221676  27793.65  24.66886     0.0  27800.052449  27830.383452  27825.240681   \n",
       "221677  27792.38  22.11301     0.0  27798.657458  27827.931616  27824.913709   \n",
       "221678  27782.80  36.26225     0.0  27795.774284  27825.019899  27824.494667   \n",
       "221679  27800.00  46.15129     0.0  27796.542596  27823.405712  27824.250939   \n",
       "\n",
       "           ROC10     ROC30  MOM10   MOM30  ...     RSI200       %K10  \\\n",
       "221675 -0.392025 -0.436869 -92.19 -155.39  ...  48.745077  25.244444   \n",
       "221676 -0.239158 -0.350038 -92.34 -104.90  ...  48.972837  36.854701   \n",
       "221677 -0.211552 -0.356306 -67.90  -98.90  ...  48.956484  43.661855   \n",
       "221678 -0.180433 -0.340415 -68.50 -108.96  ...  48.832864  38.589100   \n",
       "221679 -0.088519 -0.308970 -33.02  -77.70  ...  49.064943  60.528431   \n",
       "\n",
       "             %D10       %K30       %D30      %K200      %D200       MA21  \\\n",
       "221675  17.661538  19.198170  12.940301  72.075373  70.688707  27814.739   \n",
       "221676  28.565242  32.182947  22.690924  74.198510  72.682638  27805.505   \n",
       "221677  35.253667  33.396789  28.259302  74.039712  73.437865  27798.715   \n",
       "221678  39.701885  27.724111  31.101283  72.841853  73.693358  27791.865   \n",
       "221679  47.593129  41.151561  34.090820  74.992498  73.958021  27788.563   \n",
       "\n",
       "                MA63        MA252  \n",
       "221675  27836.498000  27738.62000  \n",
       "221676  27833.001333  27738.70230  \n",
       "221677  27829.704667  27738.77770  \n",
       "221678  27826.072667  27738.69160  \n",
       "221679  27823.482667  27738.67165  \n",
       "\n",
       "[5 rows x 22 columns]"
      ]
     },
     "execution_count": 9,
     "metadata": {},
     "output_type": "execute_result"
    }
   ],
   "source": [
    "#excluding columns that are not needed for our prediction.\n",
    "drop.append('short_mavg')\n",
    "drop.append('long_mavg')\n",
    "\n",
    "df_original.drop(columns=drop,inplace=True)\n",
    "print(f'Data Shape--> {df_original.shape}')\n",
    "df_original.tail()"
   ]
  },
  {
   "cell_type": "code",
   "execution_count": 10,
   "metadata": {},
   "outputs": [
    {
     "name": "stdout",
     "output_type": "stream",
     "text": [
      "Data Shape--> (221414, 22)\n"
     ]
    },
    {
     "data": {
      "text/html": [
       "<div>\n",
       "<style scoped>\n",
       "    .dataframe tbody tr th:only-of-type {\n",
       "        vertical-align: middle;\n",
       "    }\n",
       "\n",
       "    .dataframe tbody tr th {\n",
       "        vertical-align: top;\n",
       "    }\n",
       "\n",
       "    .dataframe thead th {\n",
       "        text-align: right;\n",
       "    }\n",
       "</style>\n",
       "<table border=\"1\" class=\"dataframe\">\n",
       "  <thead>\n",
       "    <tr style=\"text-align: right;\">\n",
       "      <th></th>\n",
       "      <th>close</th>\n",
       "      <th>volume</th>\n",
       "      <th>signal</th>\n",
       "      <th>EMA10</th>\n",
       "      <th>EMA30</th>\n",
       "      <th>EMA200</th>\n",
       "      <th>ROC10</th>\n",
       "      <th>ROC30</th>\n",
       "      <th>MOM10</th>\n",
       "      <th>MOM30</th>\n",
       "      <th>...</th>\n",
       "      <th>RSI200</th>\n",
       "      <th>%K10</th>\n",
       "      <th>%D10</th>\n",
       "      <th>%K30</th>\n",
       "      <th>%D30</th>\n",
       "      <th>%K200</th>\n",
       "      <th>%D200</th>\n",
       "      <th>MA21</th>\n",
       "      <th>MA63</th>\n",
       "      <th>MA252</th>\n",
       "    </tr>\n",
       "  </thead>\n",
       "  <tbody>\n",
       "    <tr>\n",
       "      <th>221675</th>\n",
       "      <td>27776.67</td>\n",
       "      <td>44.76366</td>\n",
       "      <td>0.0</td>\n",
       "      <td>27801.475216</td>\n",
       "      <td>27832.916793</td>\n",
       "      <td>27825.558175</td>\n",
       "      <td>-0.392025</td>\n",
       "      <td>-0.436869</td>\n",
       "      <td>-92.19</td>\n",
       "      <td>-155.39</td>\n",
       "      <td>...</td>\n",
       "      <td>48.745077</td>\n",
       "      <td>25.244444</td>\n",
       "      <td>17.661538</td>\n",
       "      <td>19.198170</td>\n",
       "      <td>12.940301</td>\n",
       "      <td>72.075373</td>\n",
       "      <td>70.688707</td>\n",
       "      <td>27814.739</td>\n",
       "      <td>27836.498000</td>\n",
       "      <td>27738.62000</td>\n",
       "    </tr>\n",
       "    <tr>\n",
       "      <th>221676</th>\n",
       "      <td>27793.65</td>\n",
       "      <td>24.66886</td>\n",
       "      <td>0.0</td>\n",
       "      <td>27800.052449</td>\n",
       "      <td>27830.383452</td>\n",
       "      <td>27825.240681</td>\n",
       "      <td>-0.239158</td>\n",
       "      <td>-0.350038</td>\n",
       "      <td>-92.34</td>\n",
       "      <td>-104.90</td>\n",
       "      <td>...</td>\n",
       "      <td>48.972837</td>\n",
       "      <td>36.854701</td>\n",
       "      <td>28.565242</td>\n",
       "      <td>32.182947</td>\n",
       "      <td>22.690924</td>\n",
       "      <td>74.198510</td>\n",
       "      <td>72.682638</td>\n",
       "      <td>27805.505</td>\n",
       "      <td>27833.001333</td>\n",
       "      <td>27738.70230</td>\n",
       "    </tr>\n",
       "    <tr>\n",
       "      <th>221677</th>\n",
       "      <td>27792.38</td>\n",
       "      <td>22.11301</td>\n",
       "      <td>0.0</td>\n",
       "      <td>27798.657458</td>\n",
       "      <td>27827.931616</td>\n",
       "      <td>27824.913709</td>\n",
       "      <td>-0.211552</td>\n",
       "      <td>-0.356306</td>\n",
       "      <td>-67.90</td>\n",
       "      <td>-98.90</td>\n",
       "      <td>...</td>\n",
       "      <td>48.956484</td>\n",
       "      <td>43.661855</td>\n",
       "      <td>35.253667</td>\n",
       "      <td>33.396789</td>\n",
       "      <td>28.259302</td>\n",
       "      <td>74.039712</td>\n",
       "      <td>73.437865</td>\n",
       "      <td>27798.715</td>\n",
       "      <td>27829.704667</td>\n",
       "      <td>27738.77770</td>\n",
       "    </tr>\n",
       "    <tr>\n",
       "      <th>221678</th>\n",
       "      <td>27782.80</td>\n",
       "      <td>36.26225</td>\n",
       "      <td>0.0</td>\n",
       "      <td>27795.774284</td>\n",
       "      <td>27825.019899</td>\n",
       "      <td>27824.494667</td>\n",
       "      <td>-0.180433</td>\n",
       "      <td>-0.340415</td>\n",
       "      <td>-68.50</td>\n",
       "      <td>-108.96</td>\n",
       "      <td>...</td>\n",
       "      <td>48.832864</td>\n",
       "      <td>38.589100</td>\n",
       "      <td>39.701885</td>\n",
       "      <td>27.724111</td>\n",
       "      <td>31.101283</td>\n",
       "      <td>72.841853</td>\n",
       "      <td>73.693358</td>\n",
       "      <td>27791.865</td>\n",
       "      <td>27826.072667</td>\n",
       "      <td>27738.69160</td>\n",
       "    </tr>\n",
       "    <tr>\n",
       "      <th>221679</th>\n",
       "      <td>27800.00</td>\n",
       "      <td>46.15129</td>\n",
       "      <td>0.0</td>\n",
       "      <td>27796.542596</td>\n",
       "      <td>27823.405712</td>\n",
       "      <td>27824.250939</td>\n",
       "      <td>-0.088519</td>\n",
       "      <td>-0.308970</td>\n",
       "      <td>-33.02</td>\n",
       "      <td>-77.70</td>\n",
       "      <td>...</td>\n",
       "      <td>49.064943</td>\n",
       "      <td>60.528431</td>\n",
       "      <td>47.593129</td>\n",
       "      <td>41.151561</td>\n",
       "      <td>34.090820</td>\n",
       "      <td>74.992498</td>\n",
       "      <td>73.958021</td>\n",
       "      <td>27788.563</td>\n",
       "      <td>27823.482667</td>\n",
       "      <td>27738.67165</td>\n",
       "    </tr>\n",
       "  </tbody>\n",
       "</table>\n",
       "<p>5 rows × 22 columns</p>\n",
       "</div>"
      ],
      "text/plain": [
       "           close    volume  signal         EMA10         EMA30        EMA200  \\\n",
       "221675  27776.67  44.76366     0.0  27801.475216  27832.916793  27825.558175   \n",
       "221676  27793.65  24.66886     0.0  27800.052449  27830.383452  27825.240681   \n",
       "221677  27792.38  22.11301     0.0  27798.657458  27827.931616  27824.913709   \n",
       "221678  27782.80  36.26225     0.0  27795.774284  27825.019899  27824.494667   \n",
       "221679  27800.00  46.15129     0.0  27796.542596  27823.405712  27824.250939   \n",
       "\n",
       "           ROC10     ROC30  MOM10   MOM30  ...     RSI200       %K10  \\\n",
       "221675 -0.392025 -0.436869 -92.19 -155.39  ...  48.745077  25.244444   \n",
       "221676 -0.239158 -0.350038 -92.34 -104.90  ...  48.972837  36.854701   \n",
       "221677 -0.211552 -0.356306 -67.90  -98.90  ...  48.956484  43.661855   \n",
       "221678 -0.180433 -0.340415 -68.50 -108.96  ...  48.832864  38.589100   \n",
       "221679 -0.088519 -0.308970 -33.02  -77.70  ...  49.064943  60.528431   \n",
       "\n",
       "             %D10       %K30       %D30      %K200      %D200       MA21  \\\n",
       "221675  17.661538  19.198170  12.940301  72.075373  70.688707  27814.739   \n",
       "221676  28.565242  32.182947  22.690924  74.198510  72.682638  27805.505   \n",
       "221677  35.253667  33.396789  28.259302  74.039712  73.437865  27798.715   \n",
       "221678  39.701885  27.724111  31.101283  72.841853  73.693358  27791.865   \n",
       "221679  47.593129  41.151561  34.090820  74.992498  73.958021  27788.563   \n",
       "\n",
       "                MA63        MA252  \n",
       "221675  27836.498000  27738.62000  \n",
       "221676  27833.001333  27738.70230  \n",
       "221677  27829.704667  27738.77770  \n",
       "221678  27826.072667  27738.69160  \n",
       "221679  27823.482667  27738.67165  \n",
       "\n",
       "[5 rows x 22 columns]"
      ]
     },
     "execution_count": 10,
     "metadata": {},
     "output_type": "execute_result"
    }
   ],
   "source": [
    "df_original = df_original.dropna(axis=0)\n",
    "print(f'Data Shape--> {df_original.shape}')\n",
    "df_original.tail()"
   ]
  },
  {
   "cell_type": "code",
   "execution_count": 11,
   "metadata": {},
   "outputs": [
    {
     "data": {
      "text/plain": [
       "Index(['close', 'volume', 'signal', 'EMA10', 'EMA30', 'EMA200', 'ROC10',\n",
       "       'ROC30', 'MOM10', 'MOM30', 'RSI10', 'RSI30', 'RSI200', '%K10', '%D10',\n",
       "       '%K30', '%D30', '%K200', '%D200', 'MA21', 'MA63', 'MA252'],\n",
       "      dtype='object')"
      ]
     },
     "execution_count": 11,
     "metadata": {},
     "output_type": "execute_result"
    }
   ],
   "source": [
    "df_original.columns"
   ]
  },
  {
   "cell_type": "code",
   "execution_count": 12,
   "metadata": {},
   "outputs": [
    {
     "data": {
      "image/png": "[encoded data removed]",
      "text/plain": [
       "<Figure size 864x864 with 25 Axes>"
      ]
     },
     "metadata": {
      "needs_background": "light"
     },
     "output_type": "display_data"
    }
   ],
   "source": [
    "df_original.hist(sharex=False, sharey=False, xlabelsize=1, ylabelsize=1, figsize=(12,12))\n",
    "plt.show()"
   ]
  },
  {
   "cell_type": "code",
   "execution_count": 13,
   "metadata": {},
   "outputs": [
    {
     "data": {
      "image/png": "[encoded data removed]",
      "text/plain": [
       "<Figure size 432x288 with 1 Axes>"
      ]
     },
     "metadata": {
      "needs_background": "light"
     },
     "output_type": "display_data"
    },
    {
     "name": "stdout",
     "output_type": "stream",
     "text": [
      "Baseline --> 0.5070727234953526\n"
     ]
    }
   ],
   "source": [
    "fig = plt.figure()\n",
    "plot = df_original.groupby(['signal']).size().plot(kind='barh', color='red')\n",
    "plt.show()\n",
    "base_line=df_original['signal'].value_counts(normalize=True).max()\n",
    "base_line=f'Baseline --> {base_line}'\n",
    "print(base_line)"
   ]
  },
  {
   "cell_type": "code",
   "execution_count": 14,
   "metadata": {},
   "outputs": [
    {
     "data": {
      "image/png": "[encoded data removed]",
      "text/plain": [
       "<Figure size 1440x1080 with 2 Axes>"
      ]
     },
     "metadata": {
      "needs_background": "light"
     },
     "output_type": "display_data"
    }
   ],
   "source": [
    "corr = df_original.corr()\n",
    "mask = np.zeros_like(corr)\n",
    "mask[np.triu_indices_from(mask)] = True\n",
    "\n",
    "fig ,ax= plt.subplots(figsize=(20, 15))\n",
    "ax = sns.heatmap(corr, mask=mask, annot=True, fmt='.1f', center=0,square=True,linewidths=.5)\n",
    "plt.title('Correlation Matrix');\n"
   ]
  },
  {
   "attachments": {},
   "cell_type": "markdown",
   "metadata": {},
   "source": [
    "#### best indicators based on the correlation with signal col __[ ROC30, MOM30, RSI30, %D30, %k200, %D200 ]__"
   ]
  },
  {
   "attachments": {},
   "cell_type": "markdown",
   "metadata": {},
   "source": [
    "# Split into Training Validation and Test"
   ]
  },
  {
   "cell_type": "code",
   "execution_count": 15,
   "metadata": {},
   "outputs": [
    {
     "name": "stdout",
     "output_type": "stream",
     "text": [
      "X--->(221414, 21)\n",
      "y--->(221414,)\n"
     ]
    }
   ],
   "source": [
    "target='signal'\n",
    "y=df_original[target]\n",
    "X=df_original.drop(columns=target)\n",
    "print(f'X--->{X.shape}')\n",
    "print(f'y--->{y.shape}')"
   ]
  },
  {
   "cell_type": "code",
   "execution_count": 16,
   "metadata": {},
   "outputs": [
    {
     "name": "stdout",
     "output_type": "stream",
     "text": [
      "X_train--->(177131, 21)\n",
      "y_train--->(177131,)\n",
      "X_test--->(44283, 21)\n",
      "y_test--->(44283,)\n"
     ]
    }
   ],
   "source": [
    "X_train,X_test,y_train,y_test=train_test_split(X,y,test_size=0.2,random_state=42)\n",
    "print(f'X_train--->{X_train.shape}')\n",
    "print(f'y_train--->{y_train.shape}')\n",
    "print(f'X_test--->{X_test.shape}')\n",
    "print(f'y_test--->{y_test.shape}')"
   ]
  },
  {
   "cell_type": "code",
   "execution_count": 17,
   "metadata": {},
   "outputs": [
    {
     "name": "stdout",
     "output_type": "stream",
     "text": [
      "X_train--->(141704, 21)\n",
      "y_train--->(141704,)\n",
      "X_val--->(35427, 21)\n",
      "y_val--->(35427,)\n"
     ]
    }
   ],
   "source": [
    "X_train,X_val,y_train,y_val=train_test_split(X_train,y_train,test_size=0.2,random_state=42)\n",
    "print(f'X_train--->{X_train.shape}')\n",
    "print(f'y_train--->{y_train.shape}')\n",
    "print(f'X_val--->{X_val.shape}')\n",
    "print(f'y_val--->{y_val.shape}')"
   ]
  },
  {
   "attachments": {},
   "cell_type": "markdown",
   "metadata": {},
   "source": [
    "# Models"
   ]
  },
  {
   "cell_type": "code",
   "execution_count": 18,
   "metadata": {},
   "outputs": [
    {
     "name": "stdout",
     "output_type": "stream",
     "text": [
      "[('LR', LogisticRegression(n_jobs=-1)), ('LDA', LinearDiscriminantAnalysis()), ('CART', DecisionTreeClassifier()), ('RF', RandomForestClassifier(n_jobs=-1))]\n"
     ]
    }
   ],
   "source": [
    "# spot check the algorithms\n",
    "models = []\n",
    "models.append(('LR', LogisticRegression(n_jobs=-1)))\n",
    "models.append(('LDA', LinearDiscriminantAnalysis()))\n",
    "models.append(('CART', DecisionTreeClassifier()))\n",
    "# Bagging methods\n",
    "models.append(('RF', RandomForestClassifier(n_jobs=-1)))\n",
    "print(models)"
   ]
  },
  {
   "cell_type": "code",
   "execution_count": 19,
   "metadata": {},
   "outputs": [
    {
     "name": "stdout",
     "output_type": "stream",
     "text": [
      "LR: 0.858 (0.004)\n",
      "LDA: 0.907 (0.001)\n",
      "CART: 0.889 (0.001)\n",
      "RF: 0.925 (0.001)\n"
     ]
    }
   ],
   "source": [
    "results = []\n",
    "names = []\n",
    "for name, model in models:\n",
    "    kfold = 5\n",
    "    cv_results = cross_val_score(model, X_train, y_train, cv=kfold, scoring='accuracy')\n",
    "    results.append(cv_results)\n",
    "    names.append(name)\n",
    "    result = f\"{name}: {round(cv_results.mean(),3)} ({round(cv_results.std(),3)})\"\n",
    "    print(result)"
   ]
  },
  {
   "attachments": {},
   "cell_type": "markdown",
   "metadata": {},
   "source": [
    "__Random forest is selected for the grid search as it is the best model out of all.__"
   ]
  },
  {
   "cell_type": "code",
   "execution_count": 20,
   "metadata": {},
   "outputs": [
    {
     "name": "stdout",
     "output_type": "stream",
     "text": [
      "RandomForestClassifier(random_state=42)\n"
     ]
    }
   ],
   "source": [
    "clf=RandomForestClassifier(random_state=42)\n",
    "print(clf)"
   ]
  },
  {
   "cell_type": "code",
   "execution_count": 21,
   "metadata": {},
   "outputs": [
    {
     "name": "stdout",
     "output_type": "stream",
     "text": [
      "[0.92329134 0.92350305 0.92290321 0.92540842 0.92568807]\n"
     ]
    }
   ],
   "source": [
    "cv_acc_score=cross_val_score(clf,X_train,y_train,cv=5,n_jobs=-1)\n",
    "print(cv_acc_score)"
   ]
  },
  {
   "cell_type": "code",
   "execution_count": 22,
   "metadata": {},
   "outputs": [
    {
     "data": {
      "text/plain": [
       "{'n_estimators': range(25, 100, 25), 'max_depth': range(10, 50, 10)}"
      ]
     },
     "execution_count": 22,
     "metadata": {},
     "output_type": "execute_result"
    }
   ],
   "source": [
    "params={\n",
    "    'n_estimators':range(25,100,25),\n",
    "    'max_depth':range(10,50,10),\n",
    "}\n",
    "params"
   ]
  },
  {
   "cell_type": "code",
   "execution_count": 23,
   "metadata": {},
   "outputs": [
    {
     "data": {
      "text/html": [
       "<style>#sk-container-id-1 {color: black;background-color: white;}#sk-container-id-1 pre{padding: 0;}#sk-container-id-1 div.sk-toggleable {background-color: white;}#sk-container-id-1 label.sk-toggleable__label {cursor: pointer;display: block;width: 100%;margin-bottom: 0;padding: 0.3em;box-sizing: border-box;text-align: center;}#sk-container-id-1 label.sk-toggleable__label-arrow:before {content: \"▸\";float: left;margin-right: 0.25em;color: #696969;}#sk-container-id-1 label.sk-toggleable__label-arrow:hover:before {color: black;}#sk-container-id-1 div.sk-estimator:hover label.sk-toggleable__label-arrow:before {color: black;}#sk-container-id-1 div.sk-toggleable__content {max-height: 0;max-width: 0;overflow: hidden;text-align: left;background-color: #f0f8ff;}#sk-container-id-1 div.sk-toggleable__content pre {margin: 0.2em;color: black;border-radius: 0.25em;background-color: #f0f8ff;}#sk-container-id-1 input.sk-toggleable__control:checked~div.sk-toggleable__content {max-height: 200px;max-width: 100%;overflow: auto;}#sk-container-id-1 input.sk-toggleable__control:checked~label.sk-toggleable__label-arrow:before {content: \"▾\";}#sk-container-id-1 div.sk-estimator input.sk-toggleable__control:checked~label.sk-toggleable__label {background-color: #d4ebff;}#sk-container-id-1 div.sk-label input.sk-toggleable__control:checked~label.sk-toggleable__label {background-color: #d4ebff;}#sk-container-id-1 input.sk-hidden--visually {border: 0;clip: rect(1px 1px 1px 1px);clip: rect(1px, 1px, 1px, 1px);height: 1px;margin: -1px;overflow: hidden;padding: 0;position: absolute;width: 1px;}#sk-container-id-1 div.sk-estimator {font-family: monospace;background-color: #f0f8ff;border: 1px dotted black;border-radius: 0.25em;box-sizing: border-box;margin-bottom: 0.5em;}#sk-container-id-1 div.sk-estimator:hover {background-color: #d4ebff;}#sk-container-id-1 div.sk-parallel-item::after {content: \"\";width: 100%;border-bottom: 1px solid gray;flex-grow: 1;}#sk-container-id-1 div.sk-label:hover label.sk-toggleable__label {background-color: #d4ebff;}#sk-container-id-1 div.sk-serial::before {content: \"\";position: absolute;border-left: 1px solid gray;box-sizing: border-box;top: 0;bottom: 0;left: 50%;z-index: 0;}#sk-container-id-1 div.sk-serial {display: flex;flex-direction: column;align-items: center;background-color: white;padding-right: 0.2em;padding-left: 0.2em;position: relative;}#sk-container-id-1 div.sk-item {position: relative;z-index: 1;}#sk-container-id-1 div.sk-parallel {display: flex;align-items: stretch;justify-content: center;background-color: white;position: relative;}#sk-container-id-1 div.sk-item::before, #sk-container-id-1 div.sk-parallel-item::before {content: \"\";position: absolute;border-left: 1px solid gray;box-sizing: border-box;top: 0;bottom: 0;left: 50%;z-index: -1;}#sk-container-id-1 div.sk-parallel-item {display: flex;flex-direction: column;z-index: 1;position: relative;background-color: white;}#sk-container-id-1 div.sk-parallel-item:first-child::after {align-self: flex-end;width: 50%;}#sk-container-id-1 div.sk-parallel-item:last-child::after {align-self: flex-start;width: 50%;}#sk-container-id-1 div.sk-parallel-item:only-child::after {width: 0;}#sk-container-id-1 div.sk-dashed-wrapped {border: 1px dashed gray;margin: 0 0.4em 0.5em 0.4em;box-sizing: border-box;padding-bottom: 0.4em;background-color: white;}#sk-container-id-1 div.sk-label label {font-family: monospace;font-weight: bold;display: inline-block;line-height: 1.2em;}#sk-container-id-1 div.sk-label-container {text-align: center;}#sk-container-id-1 div.sk-container {/* jupyter's `normalize.less` sets `[hidden] { display: none; }` but bootstrap.min.css set `[hidden] { display: none !important; }` so we also need the `!important` here to be able to override the default hidden behavior on the sphinx rendered scikit-learn.org. See: https://github.com/scikit-learn/scikit-learn/issues/21755 */display: inline-block !important;position: relative;}#sk-container-id-1 div.sk-text-repr-fallback {display: none;}</style><div id=\"sk-container-id-1\" class=\"sk-top-container\"><div class=\"sk-text-repr-fallback\"><pre>GridSearchCV(cv=5, estimator=RandomForestClassifier(random_state=42), n_jobs=-1,\n",
       "             param_grid={&#x27;max_depth&#x27;: range(10, 50, 10),\n",
       "                         &#x27;n_estimators&#x27;: range(25, 100, 25)},\n",
       "             verbose=1)</pre><b>In a Jupyter environment, please rerun this cell to show the HTML representation or trust the notebook. <br />On GitHub, the HTML representation is unable to render, please try loading this page with nbviewer.org.</b></div><div class=\"sk-container\" hidden><div class=\"sk-item sk-dashed-wrapped\"><div class=\"sk-label-container\"><div class=\"sk-label sk-toggleable\"><input class=\"sk-toggleable__control sk-hidden--visually\" id=\"sk-estimator-id-1\" type=\"checkbox\" ><label for=\"sk-estimator-id-1\" class=\"sk-toggleable__label sk-toggleable__label-arrow\">GridSearchCV</label><div class=\"sk-toggleable__content\"><pre>GridSearchCV(cv=5, estimator=RandomForestClassifier(random_state=42), n_jobs=-1,\n",
       "             param_grid={&#x27;max_depth&#x27;: range(10, 50, 10),\n",
       "                         &#x27;n_estimators&#x27;: range(25, 100, 25)},\n",
       "             verbose=1)</pre></div></div></div><div class=\"sk-parallel\"><div class=\"sk-parallel-item\"><div class=\"sk-item\"><div class=\"sk-label-container\"><div class=\"sk-label sk-toggleable\"><input class=\"sk-toggleable__control sk-hidden--visually\" id=\"sk-estimator-id-2\" type=\"checkbox\" ><label for=\"sk-estimator-id-2\" class=\"sk-toggleable__label sk-toggleable__label-arrow\">estimator: RandomForestClassifier</label><div class=\"sk-toggleable__content\"><pre>RandomForestClassifier(random_state=42)</pre></div></div></div><div class=\"sk-serial\"><div class=\"sk-item\"><div class=\"sk-estimator sk-toggleable\"><input class=\"sk-toggleable__control sk-hidden--visually\" id=\"sk-estimator-id-3\" type=\"checkbox\" ><label for=\"sk-estimator-id-3\" class=\"sk-toggleable__label sk-toggleable__label-arrow\">RandomForestClassifier</label><div class=\"sk-toggleable__content\"><pre>RandomForestClassifier(random_state=42)</pre></div></div></div></div></div></div></div></div></div></div>"
      ],
      "text/plain": [
       "GridSearchCV(cv=5, estimator=RandomForestClassifier(random_state=42), n_jobs=-1,\n",
       "             param_grid={'max_depth': range(10, 50, 10),\n",
       "                         'n_estimators': range(25, 100, 25)},\n",
       "             verbose=1)"
      ]
     },
     "execution_count": 23,
     "metadata": {},
     "output_type": "execute_result"
    }
   ],
   "source": [
    "model=GridSearchCV(clf,\n",
    "                param_grid=params,\n",
    "                cv=5,\n",
    "                n_jobs=-1,\n",
    "                verbose=1\n",
    ")\n",
    "\n",
    "model"
   ]
  },
  {
   "cell_type": "code",
   "execution_count": 24,
   "metadata": {},
   "outputs": [
    {
     "name": "stdout",
     "output_type": "stream",
     "text": [
      "Fitting 5 folds for each of 12 candidates, totalling 60 fits\n"
     ]
    },
    {
     "data": {
      "text/html": [
       "<style>#sk-container-id-2 {color: black;background-color: white;}#sk-container-id-2 pre{padding: 0;}#sk-container-id-2 div.sk-toggleable {background-color: white;}#sk-container-id-2 label.sk-toggleable__label {cursor: pointer;display: block;width: 100%;margin-bottom: 0;padding: 0.3em;box-sizing: border-box;text-align: center;}#sk-container-id-2 label.sk-toggleable__label-arrow:before {content: \"▸\";float: left;margin-right: 0.25em;color: #696969;}#sk-container-id-2 label.sk-toggleable__label-arrow:hover:before {color: black;}#sk-container-id-2 div.sk-estimator:hover label.sk-toggleable__label-arrow:before {color: black;}#sk-container-id-2 div.sk-toggleable__content {max-height: 0;max-width: 0;overflow: hidden;text-align: left;background-color: #f0f8ff;}#sk-container-id-2 div.sk-toggleable__content pre {margin: 0.2em;color: black;border-radius: 0.25em;background-color: #f0f8ff;}#sk-container-id-2 input.sk-toggleable__control:checked~div.sk-toggleable__content {max-height: 200px;max-width: 100%;overflow: auto;}#sk-container-id-2 input.sk-toggleable__control:checked~label.sk-toggleable__label-arrow:before {content: \"▾\";}#sk-container-id-2 div.sk-estimator input.sk-toggleable__control:checked~label.sk-toggleable__label {background-color: #d4ebff;}#sk-container-id-2 div.sk-label input.sk-toggleable__control:checked~label.sk-toggleable__label {background-color: #d4ebff;}#sk-container-id-2 input.sk-hidden--visually {border: 0;clip: rect(1px 1px 1px 1px);clip: rect(1px, 1px, 1px, 1px);height: 1px;margin: -1px;overflow: hidden;padding: 0;position: absolute;width: 1px;}#sk-container-id-2 div.sk-estimator {font-family: monospace;background-color: #f0f8ff;border: 1px dotted black;border-radius: 0.25em;box-sizing: border-box;margin-bottom: 0.5em;}#sk-container-id-2 div.sk-estimator:hover {background-color: #d4ebff;}#sk-container-id-2 div.sk-parallel-item::after {content: \"\";width: 100%;border-bottom: 1px solid gray;flex-grow: 1;}#sk-container-id-2 div.sk-label:hover label.sk-toggleable__label {background-color: #d4ebff;}#sk-container-id-2 div.sk-serial::before {content: \"\";position: absolute;border-left: 1px solid gray;box-sizing: border-box;top: 0;bottom: 0;left: 50%;z-index: 0;}#sk-container-id-2 div.sk-serial {display: flex;flex-direction: column;align-items: center;background-color: white;padding-right: 0.2em;padding-left: 0.2em;position: relative;}#sk-container-id-2 div.sk-item {position: relative;z-index: 1;}#sk-container-id-2 div.sk-parallel {display: flex;align-items: stretch;justify-content: center;background-color: white;position: relative;}#sk-container-id-2 div.sk-item::before, #sk-container-id-2 div.sk-parallel-item::before {content: \"\";position: absolute;border-left: 1px solid gray;box-sizing: border-box;top: 0;bottom: 0;left: 50%;z-index: -1;}#sk-container-id-2 div.sk-parallel-item {display: flex;flex-direction: column;z-index: 1;position: relative;background-color: white;}#sk-container-id-2 div.sk-parallel-item:first-child::after {align-self: flex-end;width: 50%;}#sk-container-id-2 div.sk-parallel-item:last-child::after {align-self: flex-start;width: 50%;}#sk-container-id-2 div.sk-parallel-item:only-child::after {width: 0;}#sk-container-id-2 div.sk-dashed-wrapped {border: 1px dashed gray;margin: 0 0.4em 0.5em 0.4em;box-sizing: border-box;padding-bottom: 0.4em;background-color: white;}#sk-container-id-2 div.sk-label label {font-family: monospace;font-weight: bold;display: inline-block;line-height: 1.2em;}#sk-container-id-2 div.sk-label-container {text-align: center;}#sk-container-id-2 div.sk-container {/* jupyter's `normalize.less` sets `[hidden] { display: none; }` but bootstrap.min.css set `[hidden] { display: none !important; }` so we also need the `!important` here to be able to override the default hidden behavior on the sphinx rendered scikit-learn.org. See: https://github.com/scikit-learn/scikit-learn/issues/21755 */display: inline-block !important;position: relative;}#sk-container-id-2 div.sk-text-repr-fallback {display: none;}</style><div id=\"sk-container-id-2\" class=\"sk-top-container\"><div class=\"sk-text-repr-fallback\"><pre>GridSearchCV(cv=5, estimator=RandomForestClassifier(random_state=42), n_jobs=-1,\n",
       "             param_grid={&#x27;max_depth&#x27;: range(10, 50, 10),\n",
       "                         &#x27;n_estimators&#x27;: range(25, 100, 25)},\n",
       "             verbose=1)</pre><b>In a Jupyter environment, please rerun this cell to show the HTML representation or trust the notebook. <br />On GitHub, the HTML representation is unable to render, please try loading this page with nbviewer.org.</b></div><div class=\"sk-container\" hidden><div class=\"sk-item sk-dashed-wrapped\"><div class=\"sk-label-container\"><div class=\"sk-label sk-toggleable\"><input class=\"sk-toggleable__control sk-hidden--visually\" id=\"sk-estimator-id-4\" type=\"checkbox\" ><label for=\"sk-estimator-id-4\" class=\"sk-toggleable__label sk-toggleable__label-arrow\">GridSearchCV</label><div class=\"sk-toggleable__content\"><pre>GridSearchCV(cv=5, estimator=RandomForestClassifier(random_state=42), n_jobs=-1,\n",
       "             param_grid={&#x27;max_depth&#x27;: range(10, 50, 10),\n",
       "                         &#x27;n_estimators&#x27;: range(25, 100, 25)},\n",
       "             verbose=1)</pre></div></div></div><div class=\"sk-parallel\"><div class=\"sk-parallel-item\"><div class=\"sk-item\"><div class=\"sk-label-container\"><div class=\"sk-label sk-toggleable\"><input class=\"sk-toggleable__control sk-hidden--visually\" id=\"sk-estimator-id-5\" type=\"checkbox\" ><label for=\"sk-estimator-id-5\" class=\"sk-toggleable__label sk-toggleable__label-arrow\">estimator: RandomForestClassifier</label><div class=\"sk-toggleable__content\"><pre>RandomForestClassifier(random_state=42)</pre></div></div></div><div class=\"sk-serial\"><div class=\"sk-item\"><div class=\"sk-estimator sk-toggleable\"><input class=\"sk-toggleable__control sk-hidden--visually\" id=\"sk-estimator-id-6\" type=\"checkbox\" ><label for=\"sk-estimator-id-6\" class=\"sk-toggleable__label sk-toggleable__label-arrow\">RandomForestClassifier</label><div class=\"sk-toggleable__content\"><pre>RandomForestClassifier(random_state=42)</pre></div></div></div></div></div></div></div></div></div></div>"
      ],
      "text/plain": [
       "GridSearchCV(cv=5, estimator=RandomForestClassifier(random_state=42), n_jobs=-1,\n",
       "             param_grid={'max_depth': range(10, 50, 10),\n",
       "                         'n_estimators': range(25, 100, 25)},\n",
       "             verbose=1)"
      ]
     },
     "execution_count": 24,
     "metadata": {},
     "output_type": "execute_result"
    }
   ],
   "source": [
    "model.fit(X_train,y_train)"
   ]
  },
  {
   "attachments": {},
   "cell_type": "markdown",
   "metadata": {},
   "source": [
    "## I think i Damaged my 5th gen CPU ........ XD"
   ]
  },
  {
   "cell_type": "code",
   "execution_count": 26,
   "metadata": {},
   "outputs": [
    {
     "data": {
      "text/html": [
       "<div>\n",
       "<style scoped>\n",
       "    .dataframe tbody tr th:only-of-type {\n",
       "        vertical-align: middle;\n",
       "    }\n",
       "\n",
       "    .dataframe tbody tr th {\n",
       "        vertical-align: top;\n",
       "    }\n",
       "\n",
       "    .dataframe thead th {\n",
       "        text-align: right;\n",
       "    }\n",
       "</style>\n",
       "<table border=\"1\" class=\"dataframe\">\n",
       "  <thead>\n",
       "    <tr style=\"text-align: right;\">\n",
       "      <th></th>\n",
       "      <th>mean_fit_time</th>\n",
       "      <th>std_fit_time</th>\n",
       "      <th>mean_score_time</th>\n",
       "      <th>std_score_time</th>\n",
       "      <th>param_max_depth</th>\n",
       "      <th>param_n_estimators</th>\n",
       "      <th>params</th>\n",
       "      <th>split0_test_score</th>\n",
       "      <th>split1_test_score</th>\n",
       "      <th>split2_test_score</th>\n",
       "      <th>split3_test_score</th>\n",
       "      <th>split4_test_score</th>\n",
       "      <th>mean_test_score</th>\n",
       "      <th>std_test_score</th>\n",
       "      <th>rank_test_score</th>\n",
       "    </tr>\n",
       "  </thead>\n",
       "  <tbody>\n",
       "    <tr>\n",
       "      <th>0</th>\n",
       "      <td>20.745197</td>\n",
       "      <td>0.457814</td>\n",
       "      <td>0.131402</td>\n",
       "      <td>0.012109</td>\n",
       "      <td>10</td>\n",
       "      <td>25</td>\n",
       "      <td>{'max_depth': 10, 'n_estimators': 25}</td>\n",
       "      <td>0.910518</td>\n",
       "      <td>0.909425</td>\n",
       "      <td>0.911859</td>\n",
       "      <td>0.910624</td>\n",
       "      <td>0.911609</td>\n",
       "      <td>0.910807</td>\n",
       "      <td>0.000869</td>\n",
       "      <td>12</td>\n",
       "    </tr>\n",
       "    <tr>\n",
       "      <th>1</th>\n",
       "      <td>41.091794</td>\n",
       "      <td>0.756495</td>\n",
       "      <td>0.274402</td>\n",
       "      <td>0.013186</td>\n",
       "      <td>10</td>\n",
       "      <td>50</td>\n",
       "      <td>{'max_depth': 10, 'n_estimators': 50}</td>\n",
       "      <td>0.911259</td>\n",
       "      <td>0.910130</td>\n",
       "      <td>0.910448</td>\n",
       "      <td>0.910518</td>\n",
       "      <td>0.911997</td>\n",
       "      <td>0.910871</td>\n",
       "      <td>0.000674</td>\n",
       "      <td>11</td>\n",
       "    </tr>\n",
       "    <tr>\n",
       "      <th>2</th>\n",
       "      <td>64.459998</td>\n",
       "      <td>1.041490</td>\n",
       "      <td>0.403802</td>\n",
       "      <td>0.014076</td>\n",
       "      <td>10</td>\n",
       "      <td>75</td>\n",
       "      <td>{'max_depth': 10, 'n_estimators': 75}</td>\n",
       "      <td>0.910554</td>\n",
       "      <td>0.911577</td>\n",
       "      <td>0.911647</td>\n",
       "      <td>0.911259</td>\n",
       "      <td>0.912068</td>\n",
       "      <td>0.911421</td>\n",
       "      <td>0.000504</td>\n",
       "      <td>10</td>\n",
       "    </tr>\n",
       "    <tr>\n",
       "      <th>3</th>\n",
       "      <td>29.659996</td>\n",
       "      <td>0.204899</td>\n",
       "      <td>0.215599</td>\n",
       "      <td>0.009912</td>\n",
       "      <td>20</td>\n",
       "      <td>25</td>\n",
       "      <td>{'max_depth': 20, 'n_estimators': 25}</td>\n",
       "      <td>0.920539</td>\n",
       "      <td>0.921104</td>\n",
       "      <td>0.920080</td>\n",
       "      <td>0.920680</td>\n",
       "      <td>0.922759</td>\n",
       "      <td>0.921033</td>\n",
       "      <td>0.000923</td>\n",
       "      <td>9</td>\n",
       "    </tr>\n",
       "    <tr>\n",
       "      <th>4</th>\n",
       "      <td>59.996397</td>\n",
       "      <td>0.657257</td>\n",
       "      <td>0.443201</td>\n",
       "      <td>0.030109</td>\n",
       "      <td>20</td>\n",
       "      <td>50</td>\n",
       "      <td>{'max_depth': 20, 'n_estimators': 50}</td>\n",
       "      <td>0.921386</td>\n",
       "      <td>0.923644</td>\n",
       "      <td>0.922656</td>\n",
       "      <td>0.923291</td>\n",
       "      <td>0.924594</td>\n",
       "      <td>0.923114</td>\n",
       "      <td>0.001068</td>\n",
       "      <td>6</td>\n",
       "    </tr>\n",
       "  </tbody>\n",
       "</table>\n",
       "</div>"
      ],
      "text/plain": [
       "   mean_fit_time  std_fit_time  mean_score_time  std_score_time  \\\n",
       "0      20.745197      0.457814         0.131402        0.012109   \n",
       "1      41.091794      0.756495         0.274402        0.013186   \n",
       "2      64.459998      1.041490         0.403802        0.014076   \n",
       "3      29.659996      0.204899         0.215599        0.009912   \n",
       "4      59.996397      0.657257         0.443201        0.030109   \n",
       "\n",
       "  param_max_depth param_n_estimators                                 params  \\\n",
       "0              10                 25  {'max_depth': 10, 'n_estimators': 25}   \n",
       "1              10                 50  {'max_depth': 10, 'n_estimators': 50}   \n",
       "2              10                 75  {'max_depth': 10, 'n_estimators': 75}   \n",
       "3              20                 25  {'max_depth': 20, 'n_estimators': 25}   \n",
       "4              20                 50  {'max_depth': 20, 'n_estimators': 50}   \n",
       "\n",
       "   split0_test_score  split1_test_score  split2_test_score  split3_test_score  \\\n",
       "0           0.910518           0.909425           0.911859           0.910624   \n",
       "1           0.911259           0.910130           0.910448           0.910518   \n",
       "2           0.910554           0.911577           0.911647           0.911259   \n",
       "3           0.920539           0.921104           0.920080           0.920680   \n",
       "4           0.921386           0.923644           0.922656           0.923291   \n",
       "\n",
       "   split4_test_score  mean_test_score  std_test_score  rank_test_score  \n",
       "0           0.911609         0.910807        0.000869               12  \n",
       "1           0.911997         0.910871        0.000674               11  \n",
       "2           0.912068         0.911421        0.000504               10  \n",
       "3           0.922759         0.921033        0.000923                9  \n",
       "4           0.924594         0.923114        0.001068                6  "
      ]
     },
     "execution_count": 26,
     "metadata": {},
     "output_type": "execute_result"
    }
   ],
   "source": [
    "cv_result=pd.DataFrame(model.cv_results_)\n",
    "cv_result.head()"
   ]
  },
  {
   "cell_type": "code",
   "execution_count": 27,
   "metadata": {},
   "outputs": [
    {
     "data": {
      "text/plain": [
       "0.9239682837781841"
      ]
     },
     "execution_count": 27,
     "metadata": {},
     "output_type": "execute_result"
    }
   ],
   "source": [
    "model.best_score_"
   ]
  },
  {
   "cell_type": "code",
   "execution_count": 30,
   "metadata": {},
   "outputs": [
    {
     "name": "stdout",
     "output_type": "stream",
     "text": [
      "Training Score 0.999682436628465\n",
      "Val Score 0.9250571597933779\n",
      "test Score 0.9242147099338347\n"
     ]
    }
   ],
   "source": [
    "acc_train=model.score(X_train,y_train)\n",
    "acc_val=model.score(X_val,y_val)\n",
    "acc_test=model.score(X_test,y_test)\n",
    "print(f'Training Score {acc_train}')\n",
    "print(f'Val Score {acc_val}')\n",
    "print(f'test Score {acc_test}')"
   ]
  },
  {
   "cell_type": "code",
   "execution_count": 32,
   "metadata": {},
   "outputs": [
    {
     "data": {
      "image/png": "[encoded data removed]",
      "text/plain": [
       "<Figure size 432x288 with 2 Axes>"
      ]
     },
     "metadata": {
      "needs_background": "light"
     },
     "output_type": "display_data"
    }
   ],
   "source": [
    "ConfusionMatrixDisplay.from_estimator(model,X_test,y_test);"
   ]
  },
  {
   "cell_type": "code",
   "execution_count": 36,
   "metadata": {},
   "outputs": [
    {
     "data": {
      "text/plain": [
       "array([0.00859819, 0.01487747, 0.00874392, 0.00879826, 0.00893972,\n",
       "       0.02799192, 0.12354425, 0.01944503, 0.15248353, 0.04024443,\n",
       "       0.26255954, 0.02797704, 0.05828785, 0.03129315, 0.0364749 ,\n",
       "       0.05001499, 0.04046079, 0.05293112, 0.00862251, 0.00869506,\n",
       "       0.00901635])"
      ]
     },
     "execution_count": 36,
     "metadata": {},
     "output_type": "execute_result"
    }
   ],
   "source": [
    "\n",
    "imp=model.best_estimator_.feature_importances_\n",
    "imp"
   ]
  },
  {
   "cell_type": "code",
   "execution_count": 37,
   "metadata": {},
   "outputs": [],
   "source": [
    "features=X_train.columns"
   ]
  },
  {
   "cell_type": "code",
   "execution_count": 39,
   "metadata": {},
   "outputs": [
    {
     "data": {
      "text/plain": [
       "%D200    0.052931\n",
       "%K10     0.058288\n",
       "ROC30    0.123544\n",
       "MOM30    0.152484\n",
       "RSI30    0.262560\n",
       "dtype: float64"
      ]
     },
     "execution_count": 39,
     "metadata": {},
     "output_type": "execute_result"
    }
   ],
   "source": [
    "feat_imp=pd.Series(imp,index=features).sort_values()\n",
    "feat_imp.tail()"
   ]
  },
  {
   "cell_type": "code",
   "execution_count": 55,
   "metadata": {},
   "outputs": [
    {
     "data": {
      "application/vnd.plotly.v1+json": {
       "config": {
        "plotlyServerURL": "https://plot.ly"
       },
       "data": [
        {
         "alignmentgroup": "True",
         "hovertemplate": "variable=0<br>value=%{x}<br>index=%{y}<extra></extra>",
         "legendgroup": "0",
         "marker": {
          "color": "#636efa",
          "pattern": {
           "shape": ""
          }
         },
         "name": "0",
         "offsetgroup": "0",
         "orientation": "h",
         "showlegend": true,
         "textposition": "auto",
         "type": "bar",
         "x": [
          0.009016348553390856,
          0.01487746798699358,
          0.019445033150293486,
          0.02797703668367071,
          0.02799191818524987,
          0.03129314599505413,
          0.03647490366321698,
          0.04024442803177909,
          0.04046078540772161,
          0.05001499212306616,
          0.05293111792904067,
          0.05828784877255201,
          0.1235442450579114,
          0.15248352618576197,
          0.262559537240786
         ],
         "xaxis": "x",
         "y": [
          "MA252",
          "volume",
          "MOM10",
          "RSI200",
          "ROC10",
          "%D10",
          "%K30",
          "RSI10",
          "%K200",
          "%D30",
          "%D200",
          "%K10",
          "ROC30",
          "MOM30",
          "RSI30"
         ],
         "yaxis": "y"
        }
       ],
       "layout": {
        "barmode": "relative",
        "legend": {
         "title": {
          "text": "variable"
         },
         "tracegroupgap": 0
        },
        "template": {
         "data": {
          "bar": [
           {
            "error_x": {
             "color": "#2a3f5f"
            },
            "error_y": {
             "color": "#2a3f5f"
            },
            "marker": {
             "line": {
              "color": "#E5ECF6",
              "width": 0.5
             },
             "pattern": {
              "fillmode": "overlay",
              "size": 10,
              "solidity": 0.2
             }
            },
            "type": "bar"
           }
          ],
          "barpolar": [
           {
            "marker": {
             "line": {
              "color": "#E5ECF6",
              "width": 0.5
             },
             "pattern": {
              "fillmode": "overlay",
              "size": 10,
              "solidity": 0.2
             }
            },
            "type": "barpolar"
           }
          ],
          "carpet": [
           {
            "aaxis": {
             "endlinecolor": "#2a3f5f",
             "gridcolor": "white",
             "linecolor": "white",
             "minorgridcolor": "white",
             "startlinecolor": "#2a3f5f"
            },
            "baxis": {
             "endlinecolor": "#2a3f5f",
             "gridcolor": "white",
             "linecolor": "white",
             "minorgridcolor": "white",
             "startlinecolor": "#2a3f5f"
            },
            "type": "carpet"
           }
          ],
          "choropleth": [
           {
            "colorbar": {
             "outlinewidth": 0,
             "ticks": ""
            },
            "type": "choropleth"
           }
          ],
          "contour": [
           {
            "colorbar": {
             "outlinewidth": 0,
             "ticks": ""
            },
            "colorscale": [
             [
              0,
              "#0d0887"
             ],
             [
              0.1111111111111111,
              "#46039f"
             ],
             [
              0.2222222222222222,
              "#7201a8"
             ],
             [
              0.3333333333333333,
              "#9c179e"
             ],
             [
              0.4444444444444444,
              "#bd3786"
             ],
             [
              0.5555555555555556,
              "#d8576b"
             ],
             [
              0.6666666666666666,
              "#ed7953"
             ],
             [
              0.7777777777777778,
              "#fb9f3a"
             ],
             [
              0.8888888888888888,
              "#fdca26"
             ],
             [
              1,
              "#f0f921"
             ]
            ],
            "type": "contour"
           }
          ],
          "contourcarpet": [
           {
            "colorbar": {
             "outlinewidth": 0,
             "ticks": ""
            },
            "type": "contourcarpet"
           }
          ],
          "heatmap": [
           {
            "colorbar": {
             "outlinewidth": 0,
             "ticks": ""
            },
            "colorscale": [
             [
              0,
              "#0d0887"
             ],
             [
              0.1111111111111111,
              "#46039f"
             ],
             [
              0.2222222222222222,
              "#7201a8"
             ],
             [
              0.3333333333333333,
              "#9c179e"
             ],
             [
              0.4444444444444444,
              "#bd3786"
             ],
             [
              0.5555555555555556,
              "#d8576b"
             ],
             [
              0.6666666666666666,
              "#ed7953"
             ],
             [
              0.7777777777777778,
              "#fb9f3a"
             ],
             [
              0.8888888888888888,
              "#fdca26"
             ],
             [
              1,
              "#f0f921"
             ]
            ],
            "type": "heatmap"
           }
          ],
          "heatmapgl": [
           {
            "colorbar": {
             "outlinewidth": 0,
             "ticks": ""
            },
            "colorscale": [
             [
              0,
              "#0d0887"
             ],
             [
              0.1111111111111111,
              "#46039f"
             ],
             [
              0.2222222222222222,
              "#7201a8"
             ],
             [
              0.3333333333333333,
              "#9c179e"
             ],
             [
              0.4444444444444444,
              "#bd3786"
             ],
             [
              0.5555555555555556,
              "#d8576b"
             ],
             [
              0.6666666666666666,
              "#ed7953"
             ],
             [
              0.7777777777777778,
              "#fb9f3a"
             ],
             [
              0.8888888888888888,
              "#fdca26"
             ],
             [
              1,
              "#f0f921"
             ]
            ],
            "type": "heatmapgl"
           }
          ],
          "histogram": [
           {
            "marker": {
             "pattern": {
              "fillmode": "overlay",
              "size": 10,
              "solidity": 0.2
             }
            },
            "type": "histogram"
           }
          ],
          "histogram2d": [
           {
            "colorbar": {
             "outlinewidth": 0,
             "ticks": ""
            },
            "colorscale": [
             [
              0,
              "#0d0887"
             ],
             [
              0.1111111111111111,
              "#46039f"
             ],
             [
              0.2222222222222222,
              "#7201a8"
             ],
             [
              0.3333333333333333,
              "#9c179e"
             ],
             [
              0.4444444444444444,
              "#bd3786"
             ],
             [
              0.5555555555555556,
              "#d8576b"
             ],
             [
              0.6666666666666666,
              "#ed7953"
             ],
             [
              0.7777777777777778,
              "#fb9f3a"
             ],
             [
              0.8888888888888888,
              "#fdca26"
             ],
             [
              1,
              "#f0f921"
             ]
            ],
            "type": "histogram2d"
           }
          ],
          "histogram2dcontour": [
           {
            "colorbar": {
             "outlinewidth": 0,
             "ticks": ""
            },
            "colorscale": [
             [
              0,
              "#0d0887"
             ],
             [
              0.1111111111111111,
              "#46039f"
             ],
             [
              0.2222222222222222,
              "#7201a8"
             ],
             [
              0.3333333333333333,
              "#9c179e"
             ],
             [
              0.4444444444444444,
              "#bd3786"
             ],
             [
              0.5555555555555556,
              "#d8576b"
             ],
             [
              0.6666666666666666,
              "#ed7953"
             ],
             [
              0.7777777777777778,
              "#fb9f3a"
             ],
             [
              0.8888888888888888,
              "#fdca26"
             ],
             [
              1,
              "#f0f921"
             ]
            ],
            "type": "histogram2dcontour"
           }
          ],
          "mesh3d": [
           {
            "colorbar": {
             "outlinewidth": 0,
             "ticks": ""
            },
            "type": "mesh3d"
           }
          ],
          "parcoords": [
           {
            "line": {
             "colorbar": {
              "outlinewidth": 0,
              "ticks": ""
             }
            },
            "type": "parcoords"
           }
          ],
          "pie": [
           {
            "automargin": true,
            "type": "pie"
           }
          ],
          "scatter": [
           {
            "fillpattern": {
             "fillmode": "overlay",
             "size": 10,
             "solidity": 0.2
            },
            "type": "scatter"
           }
          ],
          "scatter3d": [
           {
            "line": {
             "colorbar": {
              "outlinewidth": 0,
              "ticks": ""
             }
            },
            "marker": {
             "colorbar": {
              "outlinewidth": 0,
              "ticks": ""
             }
            },
            "type": "scatter3d"
           }
          ],
          "scattercarpet": [
           {
            "marker": {
             "colorbar": {
              "outlinewidth": 0,
              "ticks": ""
             }
            },
            "type": "scattercarpet"
           }
          ],
          "scattergeo": [
           {
            "marker": {
             "colorbar": {
              "outlinewidth": 0,
              "ticks": ""
             }
            },
            "type": "scattergeo"
           }
          ],
          "scattergl": [
           {
            "marker": {
             "colorbar": {
              "outlinewidth": 0,
              "ticks": ""
             }
            },
            "type": "scattergl"
           }
          ],
          "scattermapbox": [
           {
            "marker": {
             "colorbar": {
              "outlinewidth": 0,
              "ticks": ""
             }
            },
            "type": "scattermapbox"
           }
          ],
          "scatterpolar": [
           {
            "marker": {
             "colorbar": {
              "outlinewidth": 0,
              "ticks": ""
             }
            },
            "type": "scatterpolar"
           }
          ],
          "scatterpolargl": [
           {
            "marker": {
             "colorbar": {
              "outlinewidth": 0,
              "ticks": ""
             }
            },
            "type": "scatterpolargl"
           }
          ],
          "scatterternary": [
           {
            "marker": {
             "colorbar": {
              "outlinewidth": 0,
              "ticks": ""
             }
            },
            "type": "scatterternary"
           }
          ],
          "surface": [
           {
            "colorbar": {
             "outlinewidth": 0,
             "ticks": ""
            },
            "colorscale": [
             [
              0,
              "#0d0887"
             ],
             [
              0.1111111111111111,
              "#46039f"
             ],
             [
              0.2222222222222222,
              "#7201a8"
             ],
             [
              0.3333333333333333,
              "#9c179e"
             ],
             [
              0.4444444444444444,
              "#bd3786"
             ],
             [
              0.5555555555555556,
              "#d8576b"
             ],
             [
              0.6666666666666666,
              "#ed7953"
             ],
             [
              0.7777777777777778,
              "#fb9f3a"
             ],
             [
              0.8888888888888888,
              "#fdca26"
             ],
             [
              1,
              "#f0f921"
             ]
            ],
            "type": "surface"
           }
          ],
          "table": [
           {
            "cells": {
             "fill": {
              "color": "#EBF0F8"
             },
             "line": {
              "color": "white"
             }
            },
            "header": {
             "fill": {
              "color": "#C8D4E3"
             },
             "line": {
              "color": "white"
             }
            },
            "type": "table"
           }
          ]
         },
         "layout": {
          "annotationdefaults": {
           "arrowcolor": "#2a3f5f",
           "arrowhead": 0,
           "arrowwidth": 1
          },
          "autotypenumbers": "strict",
          "coloraxis": {
           "colorbar": {
            "outlinewidth": 0,
            "ticks": ""
           }
          },
          "colorscale": {
           "diverging": [
            [
             0,
             "#8e0152"
            ],
            [
             0.1,
             "#c51b7d"
            ],
            [
             0.2,
             "#de77ae"
            ],
            [
             0.3,
             "#f1b6da"
            ],
            [
             0.4,
             "#fde0ef"
            ],
            [
             0.5,
             "#f7f7f7"
            ],
            [
             0.6,
             "#e6f5d0"
            ],
            [
             0.7,
             "#b8e186"
            ],
            [
             0.8,
             "#7fbc41"
            ],
            [
             0.9,
             "#4d9221"
            ],
            [
             1,
             "#276419"
            ]
           ],
           "sequential": [
            [
             0,
             "#0d0887"
            ],
            [
             0.1111111111111111,
             "#46039f"
            ],
            [
             0.2222222222222222,
             "#7201a8"
            ],
            [
             0.3333333333333333,
             "#9c179e"
            ],
            [
             0.4444444444444444,
             "#bd3786"
            ],
            [
             0.5555555555555556,
             "#d8576b"
            ],
            [
             0.6666666666666666,
             "#ed7953"
            ],
            [
             0.7777777777777778,
             "#fb9f3a"
            ],
            [
             0.8888888888888888,
             "#fdca26"
            ],
            [
             1,
             "#f0f921"
            ]
           ],
           "sequentialminus": [
            [
             0,
             "#0d0887"
            ],
            [
             0.1111111111111111,
             "#46039f"
            ],
            [
             0.2222222222222222,
             "#7201a8"
            ],
            [
             0.3333333333333333,
             "#9c179e"
            ],
            [
             0.4444444444444444,
             "#bd3786"
            ],
            [
             0.5555555555555556,
             "#d8576b"
            ],
            [
             0.6666666666666666,
             "#ed7953"
            ],
            [
             0.7777777777777778,
             "#fb9f3a"
            ],
            [
             0.8888888888888888,
             "#fdca26"
            ],
            [
             1,
             "#f0f921"
            ]
           ]
          },
          "colorway": [
           "#636efa",
           "#EF553B",
           "#00cc96",
           "#ab63fa",
           "#FFA15A",
           "#19d3f3",
           "#FF6692",
           "#B6E880",
           "#FF97FF",
           "#FECB52"
          ],
          "font": {
           "color": "#2a3f5f"
          },
          "geo": {
           "bgcolor": "white",
           "lakecolor": "white",
           "landcolor": "#E5ECF6",
           "showlakes": true,
           "showland": true,
           "subunitcolor": "white"
          },
          "hoverlabel": {
           "align": "left"
          },
          "hovermode": "closest",
          "mapbox": {
           "style": "light"
          },
          "paper_bgcolor": "white",
          "plot_bgcolor": "#E5ECF6",
          "polar": {
           "angularaxis": {
            "gridcolor": "white",
            "linecolor": "white",
            "ticks": ""
           },
           "bgcolor": "#E5ECF6",
           "radialaxis": {
            "gridcolor": "white",
            "linecolor": "white",
            "ticks": ""
           }
          },
          "scene": {
           "xaxis": {
            "backgroundcolor": "#E5ECF6",
            "gridcolor": "white",
            "gridwidth": 2,
            "linecolor": "white",
            "showbackground": true,
            "ticks": "",
            "zerolinecolor": "white"
           },
           "yaxis": {
            "backgroundcolor": "#E5ECF6",
            "gridcolor": "white",
            "gridwidth": 2,
            "linecolor": "white",
            "showbackground": true,
            "ticks": "",
            "zerolinecolor": "white"
           },
           "zaxis": {
            "backgroundcolor": "#E5ECF6",
            "gridcolor": "white",
            "gridwidth": 2,
            "linecolor": "white",
            "showbackground": true,
            "ticks": "",
            "zerolinecolor": "white"
           }
          },
          "shapedefaults": {
           "line": {
            "color": "#2a3f5f"
           }
          },
          "ternary": {
           "aaxis": {
            "gridcolor": "white",
            "linecolor": "white",
            "ticks": ""
           },
           "baxis": {
            "gridcolor": "white",
            "linecolor": "white",
            "ticks": ""
           },
           "bgcolor": "#E5ECF6",
           "caxis": {
            "gridcolor": "white",
            "linecolor": "white",
            "ticks": ""
           }
          },
          "title": {
           "x": 0.05
          },
          "xaxis": {
           "automargin": true,
           "gridcolor": "white",
           "linecolor": "white",
           "ticks": "",
           "title": {
            "standoff": 15
           },
           "zerolinecolor": "white",
           "zerolinewidth": 2
          },
          "yaxis": {
           "automargin": true,
           "gridcolor": "white",
           "linecolor": "white",
           "ticks": "",
           "title": {
            "standoff": 15
           },
           "zerolinecolor": "white",
           "zerolinewidth": 2
          }
         }
        },
        "title": {
         "text": "Best 15 Indicators"
        },
        "xaxis": {
         "anchor": "y",
         "domain": [
          0,
          1
         ],
         "title": {
          "text": "Importance"
         }
        },
        "yaxis": {
         "anchor": "x",
         "domain": [
          0,
          1
         ],
         "title": {
          "text": "Indicators"
         }
        }
       }
      }
     },
     "metadata": {},
     "output_type": "display_data"
    }
   ],
   "source": [
    "fig=px.bar(feat_imp.tail(15),orientation='h',title='Best 15 Indicators')\n",
    "fig.update_layout(xaxis_title='Importance',yaxis_title='Indicators')\n",
    "\n",
    "fig.show()"
   ]
  },
  {
   "attachments": {},
   "cell_type": "markdown",
   "metadata": {},
   "source": [
    "## Saving the model for later use"
   ]
  },
  {
   "cell_type": "code",
   "execution_count": 56,
   "metadata": {},
   "outputs": [],
   "source": [
    "import pickle as pickle\n",
    "with open(\"model_BTC_RF\",'wb')as f :\n",
    "    pickle.dump(model,f)"
   ]
  },
  {
   "cell_type": "code",
   "execution_count": null,
   "metadata": {},
   "outputs": [],
   "source": []
  }
 ],
 "metadata": {
  "kernelspec": {
   "display_name": "Python 3",
   "language": "python",
   "name": "python3"
  },
  "language_info": {
   "codemirror_mode": {
    "name": "ipython",
    "version": 3
   },
   "file_extension": ".py",
   "mimetype": "text/x-python",
   "name": "python",
   "nbconvert_exporter": "python",
   "pygments_lexer": "ipython3",
   "version": "3.10.2"
  },
  "orig_nbformat": 4
 },
 "nbformat": 4,
 "nbformat_minor": 2
}
